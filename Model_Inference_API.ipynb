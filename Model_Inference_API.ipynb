{
  "cells": [
    {
      "cell_type": "markdown",
      "metadata": {
        "id": "L7G6D4NwyE8u"
      },
      "source": [
        "1. Connect GPU (standard)\n",
        "2. Connect high-RAM runtime"
      ]
    },
    {
      "cell_type": "code",
      "execution_count": null,
      "metadata": {
        "colab": {
          "base_uri": "https://localhost:8080/"
        },
        "id": "O7m9yOfZlnqf",
        "outputId": "452b0361-c425-4dc9-fed4-ed780b781994"
      },
      "outputs": [
        {
          "name": "stdout",
          "output_type": "stream",
          "text": [
            "Mounted at /content/drive\n"
          ]
        }
      ],
      "source": [
        "from google.colab import drive\n",
        "drive.mount('/content/drive')"
      ]
    },
    {
      "cell_type": "code",
      "execution_count": null,
      "metadata": {
        "colab": {
          "base_uri": "https://localhost:8080/"
        },
        "id": "duLJDTVVx-3I",
        "outputId": "54529f3d-f58a-4a00-ae1f-32e94474609a"
      },
      "outputs": [
        {
          "name": "stdout",
          "output_type": "stream",
          "text": [
            "Your runtime has 27.3 gigabytes of available RAM\n",
            "\n",
            "You are using a high-RAM runtime!\n"
          ]
        }
      ],
      "source": [
        "from psutil import virtual_memory\n",
        "ram_gb = virtual_memory().total / 1e9\n",
        "print('Your runtime has {:.1f} gigabytes of available RAM\\n'.format(ram_gb))\n",
        "\n",
        "if ram_gb < 20:\n",
        "  print('Not using a high-RAM runtime')\n",
        "else:\n",
        "  print('You are using a high-RAM runtime!')"
      ]
    },
    {
      "cell_type": "code",
      "execution_count": null,
      "metadata": {
        "colab": {
          "base_uri": "https://localhost:8080/"
        },
        "id": "qfaCX52wxNnG",
        "outputId": "464f863b-28a7-440a-d5b2-dc1f60724a82"
      },
      "outputs": [
        {
          "name": "stdout",
          "output_type": "stream",
          "text": [
            "Fri Nov 25 00:02:57 2022       \n",
            "+-----------------------------------------------------------------------------+\n",
            "| NVIDIA-SMI 460.32.03    Driver Version: 460.32.03    CUDA Version: 11.2     |\n",
            "|-------------------------------+----------------------+----------------------+\n",
            "| GPU  Name        Persistence-M| Bus-Id        Disp.A | Volatile Uncorr. ECC |\n",
            "| Fan  Temp  Perf  Pwr:Usage/Cap|         Memory-Usage | GPU-Util  Compute M. |\n",
            "|                               |                      |               MIG M. |\n",
            "|===============================+======================+======================|\n",
            "|   0  Tesla T4            Off  | 00000000:00:04.0 Off |                    0 |\n",
            "| N/A   40C    P8     9W /  70W |      0MiB / 15109MiB |      0%      Default |\n",
            "|                               |                      |                  N/A |\n",
            "+-------------------------------+----------------------+----------------------+\n",
            "                                                                               \n",
            "+-----------------------------------------------------------------------------+\n",
            "| Processes:                                                                  |\n",
            "|  GPU   GI   CI        PID   Type   Process name                  GPU Memory |\n",
            "|        ID   ID                                                   Usage      |\n",
            "|=============================================================================|\n",
            "|  No running processes found                                                 |\n",
            "+-----------------------------------------------------------------------------+\n"
          ]
        }
      ],
      "source": [
        "gpu_info = !nvidia-smi\n",
        "gpu_info = '\\n'.join(gpu_info)\n",
        "if gpu_info.find('failed') >= 0:\n",
        "  print('Not connected to a GPU')\n",
        "else:\n",
        "  print(gpu_info)"
      ]
    },
    {
      "cell_type": "code",
      "execution_count": null,
      "metadata": {
        "colab": {
          "base_uri": "https://localhost:8080/"
        },
        "id": "NYsWY9AxEdRm",
        "outputId": "8c7087ba-1a27-4cab-f15a-a46bd1235b40"
      },
      "outputs": [
        {
          "name": "stdout",
          "output_type": "stream",
          "text": [
            "Looking in indexes: https://pypi.org/simple, https://us-python.pkg.dev/colab-wheels/public/simple/\n",
            "Requirement already satisfied: flask in /usr/local/lib/python3.7/dist-packages (1.1.4)\n",
            "Requirement already satisfied: click<8.0,>=5.1 in /usr/local/lib/python3.7/dist-packages (from flask) (7.1.2)\n",
            "Requirement already satisfied: itsdangerous<2.0,>=0.24 in /usr/local/lib/python3.7/dist-packages (from flask) (1.1.0)\n",
            "Requirement already satisfied: Jinja2<3.0,>=2.10.1 in /usr/local/lib/python3.7/dist-packages (from flask) (2.11.3)\n",
            "Requirement already satisfied: Werkzeug<2.0,>=0.15 in /usr/local/lib/python3.7/dist-packages (from flask) (1.0.1)\n",
            "Requirement already satisfied: MarkupSafe>=0.23 in /usr/local/lib/python3.7/dist-packages (from Jinja2<3.0,>=2.10.1->flask) (2.0.1)\n",
            "Looking in indexes: https://pypi.org/simple, https://us-python.pkg.dev/colab-wheels/public/simple/\n",
            "Collecting flask-ngrok\n",
            "  Downloading flask_ngrok-0.0.25-py3-none-any.whl (3.1 kB)\n",
            "Requirement already satisfied: Flask>=0.8 in /usr/local/lib/python3.7/dist-packages (from flask-ngrok) (1.1.4)\n",
            "Requirement already satisfied: requests in /usr/local/lib/python3.7/dist-packages (from flask-ngrok) (2.23.0)\n",
            "Requirement already satisfied: itsdangerous<2.0,>=0.24 in /usr/local/lib/python3.7/dist-packages (from Flask>=0.8->flask-ngrok) (1.1.0)\n",
            "Requirement already satisfied: Werkzeug<2.0,>=0.15 in /usr/local/lib/python3.7/dist-packages (from Flask>=0.8->flask-ngrok) (1.0.1)\n",
            "Requirement already satisfied: Jinja2<3.0,>=2.10.1 in /usr/local/lib/python3.7/dist-packages (from Flask>=0.8->flask-ngrok) (2.11.3)\n",
            "Requirement already satisfied: click<8.0,>=5.1 in /usr/local/lib/python3.7/dist-packages (from Flask>=0.8->flask-ngrok) (7.1.2)\n",
            "Requirement already satisfied: MarkupSafe>=0.23 in /usr/local/lib/python3.7/dist-packages (from Jinja2<3.0,>=2.10.1->Flask>=0.8->flask-ngrok) (2.0.1)\n",
            "Requirement already satisfied: urllib3!=1.25.0,!=1.25.1,<1.26,>=1.21.1 in /usr/local/lib/python3.7/dist-packages (from requests->flask-ngrok) (1.24.3)\n",
            "Requirement already satisfied: chardet<4,>=3.0.2 in /usr/local/lib/python3.7/dist-packages (from requests->flask-ngrok) (3.0.4)\n",
            "Requirement already satisfied: certifi>=2017.4.17 in /usr/local/lib/python3.7/dist-packages (from requests->flask-ngrok) (2022.9.24)\n",
            "Requirement already satisfied: idna<3,>=2.5 in /usr/local/lib/python3.7/dist-packages (from requests->flask-ngrok) (2.10)\n",
            "Installing collected packages: flask-ngrok\n",
            "Successfully installed flask-ngrok-0.0.25\n"
          ]
        }
      ],
      "source": [
        "!pip install flask\n",
        "!pip install flask-ngrok"
      ]
    },
    {
      "cell_type": "code",
      "execution_count": null,
      "metadata": {
        "colab": {
          "base_uri": "https://localhost:8080/"
        },
        "id": "W13rUiM9GBxu",
        "outputId": "400c577b-2bb6-4d6d-d827-fd096d173ca8"
      },
      "outputs": [
        {
          "name": "stdout",
          "output_type": "stream",
          "text": [
            "Looking in indexes: https://pypi.org/simple, https://us-python.pkg.dev/colab-wheels/public/simple/\n",
            "Collecting pyngrok\n",
            "  Downloading pyngrok-5.1.0.tar.gz (745 kB)\n",
            "\u001b[K     |████████████████████████████████| 745 kB 44.6 MB/s \n",
            "\u001b[?25hRequirement already satisfied: PyYAML in /usr/local/lib/python3.7/dist-packages (from pyngrok) (6.0)\n",
            "Building wheels for collected packages: pyngrok\n",
            "  Building wheel for pyngrok (setup.py) ... \u001b[?25l\u001b[?25hdone\n",
            "  Created wheel for pyngrok: filename=pyngrok-5.1.0-py3-none-any.whl size=19006 sha256=25f647e30bfc608403c8da8c1a7b66ce139919a4714ac33257f5b44a0205bf92\n",
            "  Stored in directory: /root/.cache/pip/wheels/bf/e6/af/ccf6598ecefecd44104069371795cb9b3afbcd16987f6ccfb3\n",
            "Successfully built pyngrok\n",
            "Installing collected packages: pyngrok\n",
            "Successfully installed pyngrok-5.1.0\n",
            "Authtoken saved to configuration file: /root/.ngrok2/ngrok.yml\n"
          ]
        }
      ],
      "source": [
        "!pip install pyngrok\n",
        "!ngrok authtoken '2FRxy0n5zXiQ25PPAkJXz2ksB8L_5cZPRefZhcKXqKpaNSw78'"
      ]
    },
    {
      "cell_type": "markdown",
      "metadata": {
        "id": "z66e8MRfmLkL"
      },
      "source": [
        "# OD Environment"
      ]
    },
    {
      "cell_type": "code",
      "execution_count": null,
      "metadata": {
        "colab": {
          "base_uri": "https://localhost:8080/"
        },
        "id": "k9jVGA8skjRs",
        "outputId": "3dcd845a-38e4-440e-9f70-ec45f4082d2a"
      },
      "outputs": [
        {
          "name": "stdout",
          "output_type": "stream",
          "text": [
            "Cloning into 'darknet'...\n",
            "remote: Enumerating objects: 5955, done.\u001b[K\n",
            "remote: Total 5955 (delta 0), reused 0 (delta 0), pack-reused 5955\u001b[K\n",
            "Receiving objects: 100% (5955/5955), 6.37 MiB | 6.53 MiB/s, done.\n",
            "Resolving deltas: 100% (3932/3932), done.\n",
            "Cloning into 'Food100_YOLO_Tools'...\n",
            "remote: Enumerating objects: 15, done.\u001b[K\n",
            "remote: Total 15 (delta 0), reused 0 (delta 0), pack-reused 15\u001b[K\n",
            "Unpacking objects: 100% (15/15), done.\n"
          ]
        }
      ],
      "source": [
        "!git clone https://github.com/pjreddie/darknet.git\n",
        "!git clone https://github.com/bennycheung/Food100_YOLO_Tools.git"
      ]
    },
    {
      "cell_type": "markdown",
      "metadata": {
        "id": "3FUwpy9HlFUg"
      },
      "source": [
        "**prerequisites**\n",
        "* `darknet/Makefile`\n",
        "  * LIBSO=1\n",
        "* `darknet/python/darknet.py` \n",
        "  * lib = CDLL(\"/content/darknet/libdarknet.so\", RTLD_GLOBAL)\n"
      ]
    },
    {
      "cell_type": "code",
      "execution_count": null,
      "metadata": {
        "id": "LDiFG6fhn_mB"
      },
      "outputs": [],
      "source": [
        "!cp -r /content/drive/MyDrive/AIDiet_data/ /content\n",
        "!cp /content/AIDiet_data/Makefile /content/darknet/Makefile\n",
        "!cp /content/AIDiet_data/darknet.py /content/darknet/python/darknet.py\n",
        "!cp /content/AIDiet_data/food100.data /content/Food100_YOLO_Tools/food100.data"
      ]
    },
    {
      "cell_type": "code",
      "execution_count": null,
      "metadata": {
        "colab": {
          "base_uri": "https://localhost:8080/"
        },
        "id": "u_eLQvyuk5g7",
        "outputId": "b8868ff4-06fb-4948-bea7-cf66ae04d74b"
      },
      "outputs": [
        {
          "name": "stdout",
          "output_type": "stream",
          "text": [
            "/content/darknet\n",
            "gcc -Iinclude/ -Isrc/ -Wall -Wno-unused-result -Wno-unknown-pragmas -Wfatal-errors -fPIC -Ofast -c ./src/gemm.c -o obj/gemm.o\n",
            "gcc -Iinclude/ -Isrc/ -Wall -Wno-unused-result -Wno-unknown-pragmas -Wfatal-errors -fPIC -Ofast -c ./src/utils.c -o obj/utils.o\n",
            "gcc -Iinclude/ -Isrc/ -Wall -Wno-unused-result -Wno-unknown-pragmas -Wfatal-errors -fPIC -Ofast -c ./src/cuda.c -o obj/cuda.o\n",
            "gcc -Iinclude/ -Isrc/ -Wall -Wno-unused-result -Wno-unknown-pragmas -Wfatal-errors -fPIC -Ofast -c ./src/deconvolutional_layer.c -o obj/deconvolutional_layer.o\n",
            "gcc -Iinclude/ -Isrc/ -Wall -Wno-unused-result -Wno-unknown-pragmas -Wfatal-errors -fPIC -Ofast -c ./src/convolutional_layer.c -o obj/convolutional_layer.o\n",
            "gcc -Iinclude/ -Isrc/ -Wall -Wno-unused-result -Wno-unknown-pragmas -Wfatal-errors -fPIC -Ofast -c ./src/list.c -o obj/list.o\n",
            "gcc -Iinclude/ -Isrc/ -Wall -Wno-unused-result -Wno-unknown-pragmas -Wfatal-errors -fPIC -Ofast -c ./src/image.c -o obj/image.o\n",
            "gcc -Iinclude/ -Isrc/ -Wall -Wno-unused-result -Wno-unknown-pragmas -Wfatal-errors -fPIC -Ofast -c ./src/activations.c -o obj/activations.o\n",
            "gcc -Iinclude/ -Isrc/ -Wall -Wno-unused-result -Wno-unknown-pragmas -Wfatal-errors -fPIC -Ofast -c ./src/im2col.c -o obj/im2col.o\n",
            "gcc -Iinclude/ -Isrc/ -Wall -Wno-unused-result -Wno-unknown-pragmas -Wfatal-errors -fPIC -Ofast -c ./src/col2im.c -o obj/col2im.o\n",
            "gcc -Iinclude/ -Isrc/ -Wall -Wno-unused-result -Wno-unknown-pragmas -Wfatal-errors -fPIC -Ofast -c ./src/blas.c -o obj/blas.o\n",
            "gcc -Iinclude/ -Isrc/ -Wall -Wno-unused-result -Wno-unknown-pragmas -Wfatal-errors -fPIC -Ofast -c ./src/crop_layer.c -o obj/crop_layer.o\n",
            "gcc -Iinclude/ -Isrc/ -Wall -Wno-unused-result -Wno-unknown-pragmas -Wfatal-errors -fPIC -Ofast -c ./src/dropout_layer.c -o obj/dropout_layer.o\n",
            "gcc -Iinclude/ -Isrc/ -Wall -Wno-unused-result -Wno-unknown-pragmas -Wfatal-errors -fPIC -Ofast -c ./src/maxpool_layer.c -o obj/maxpool_layer.o\n",
            "gcc -Iinclude/ -Isrc/ -Wall -Wno-unused-result -Wno-unknown-pragmas -Wfatal-errors -fPIC -Ofast -c ./src/softmax_layer.c -o obj/softmax_layer.o\n",
            "gcc -Iinclude/ -Isrc/ -Wall -Wno-unused-result -Wno-unknown-pragmas -Wfatal-errors -fPIC -Ofast -c ./src/data.c -o obj/data.o\n",
            "gcc -Iinclude/ -Isrc/ -Wall -Wno-unused-result -Wno-unknown-pragmas -Wfatal-errors -fPIC -Ofast -c ./src/matrix.c -o obj/matrix.o\n",
            "gcc -Iinclude/ -Isrc/ -Wall -Wno-unused-result -Wno-unknown-pragmas -Wfatal-errors -fPIC -Ofast -c ./src/network.c -o obj/network.o\n",
            "gcc -Iinclude/ -Isrc/ -Wall -Wno-unused-result -Wno-unknown-pragmas -Wfatal-errors -fPIC -Ofast -c ./src/connected_layer.c -o obj/connected_layer.o\n",
            "gcc -Iinclude/ -Isrc/ -Wall -Wno-unused-result -Wno-unknown-pragmas -Wfatal-errors -fPIC -Ofast -c ./src/cost_layer.c -o obj/cost_layer.o\n",
            "gcc -Iinclude/ -Isrc/ -Wall -Wno-unused-result -Wno-unknown-pragmas -Wfatal-errors -fPIC -Ofast -c ./src/parser.c -o obj/parser.o\n",
            "gcc -Iinclude/ -Isrc/ -Wall -Wno-unused-result -Wno-unknown-pragmas -Wfatal-errors -fPIC -Ofast -c ./src/option_list.c -o obj/option_list.o\n",
            "gcc -Iinclude/ -Isrc/ -Wall -Wno-unused-result -Wno-unknown-pragmas -Wfatal-errors -fPIC -Ofast -c ./src/detection_layer.c -o obj/detection_layer.o\n",
            "gcc -Iinclude/ -Isrc/ -Wall -Wno-unused-result -Wno-unknown-pragmas -Wfatal-errors -fPIC -Ofast -c ./src/route_layer.c -o obj/route_layer.o\n",
            "gcc -Iinclude/ -Isrc/ -Wall -Wno-unused-result -Wno-unknown-pragmas -Wfatal-errors -fPIC -Ofast -c ./src/upsample_layer.c -o obj/upsample_layer.o\n",
            "gcc -Iinclude/ -Isrc/ -Wall -Wno-unused-result -Wno-unknown-pragmas -Wfatal-errors -fPIC -Ofast -c ./src/box.c -o obj/box.o\n",
            "gcc -Iinclude/ -Isrc/ -Wall -Wno-unused-result -Wno-unknown-pragmas -Wfatal-errors -fPIC -Ofast -c ./src/normalization_layer.c -o obj/normalization_layer.o\n",
            "gcc -Iinclude/ -Isrc/ -Wall -Wno-unused-result -Wno-unknown-pragmas -Wfatal-errors -fPIC -Ofast -c ./src/avgpool_layer.c -o obj/avgpool_layer.o\n",
            "gcc -Iinclude/ -Isrc/ -Wall -Wno-unused-result -Wno-unknown-pragmas -Wfatal-errors -fPIC -Ofast -c ./src/layer.c -o obj/layer.o\n",
            "gcc -Iinclude/ -Isrc/ -Wall -Wno-unused-result -Wno-unknown-pragmas -Wfatal-errors -fPIC -Ofast -c ./src/local_layer.c -o obj/local_layer.o\n",
            "gcc -Iinclude/ -Isrc/ -Wall -Wno-unused-result -Wno-unknown-pragmas -Wfatal-errors -fPIC -Ofast -c ./src/shortcut_layer.c -o obj/shortcut_layer.o\n",
            "gcc -Iinclude/ -Isrc/ -Wall -Wno-unused-result -Wno-unknown-pragmas -Wfatal-errors -fPIC -Ofast -c ./src/logistic_layer.c -o obj/logistic_layer.o\n",
            "gcc -Iinclude/ -Isrc/ -Wall -Wno-unused-result -Wno-unknown-pragmas -Wfatal-errors -fPIC -Ofast -c ./src/activation_layer.c -o obj/activation_layer.o\n",
            "gcc -Iinclude/ -Isrc/ -Wall -Wno-unused-result -Wno-unknown-pragmas -Wfatal-errors -fPIC -Ofast -c ./src/rnn_layer.c -o obj/rnn_layer.o\n",
            "gcc -Iinclude/ -Isrc/ -Wall -Wno-unused-result -Wno-unknown-pragmas -Wfatal-errors -fPIC -Ofast -c ./src/gru_layer.c -o obj/gru_layer.o\n",
            "gcc -Iinclude/ -Isrc/ -Wall -Wno-unused-result -Wno-unknown-pragmas -Wfatal-errors -fPIC -Ofast -c ./src/crnn_layer.c -o obj/crnn_layer.o\n",
            "gcc -Iinclude/ -Isrc/ -Wall -Wno-unused-result -Wno-unknown-pragmas -Wfatal-errors -fPIC -Ofast -c ./src/demo.c -o obj/demo.o\n",
            "gcc -Iinclude/ -Isrc/ -Wall -Wno-unused-result -Wno-unknown-pragmas -Wfatal-errors -fPIC -Ofast -c ./src/batchnorm_layer.c -o obj/batchnorm_layer.o\n",
            "gcc -Iinclude/ -Isrc/ -Wall -Wno-unused-result -Wno-unknown-pragmas -Wfatal-errors -fPIC -Ofast -c ./src/region_layer.c -o obj/region_layer.o\n",
            "gcc -Iinclude/ -Isrc/ -Wall -Wno-unused-result -Wno-unknown-pragmas -Wfatal-errors -fPIC -Ofast -c ./src/reorg_layer.c -o obj/reorg_layer.o\n",
            "gcc -Iinclude/ -Isrc/ -Wall -Wno-unused-result -Wno-unknown-pragmas -Wfatal-errors -fPIC -Ofast -c ./src/tree.c -o obj/tree.o\n",
            "gcc -Iinclude/ -Isrc/ -Wall -Wno-unused-result -Wno-unknown-pragmas -Wfatal-errors -fPIC -Ofast -c ./src/lstm_layer.c -o obj/lstm_layer.o\n",
            "gcc -Iinclude/ -Isrc/ -Wall -Wno-unused-result -Wno-unknown-pragmas -Wfatal-errors -fPIC -Ofast -c ./src/l2norm_layer.c -o obj/l2norm_layer.o\n",
            "gcc -Iinclude/ -Isrc/ -Wall -Wno-unused-result -Wno-unknown-pragmas -Wfatal-errors -fPIC -Ofast -c ./src/yolo_layer.c -o obj/yolo_layer.o\n",
            "gcc -Iinclude/ -Isrc/ -Wall -Wno-unused-result -Wno-unknown-pragmas -Wfatal-errors -fPIC -Ofast -c ./src/iseg_layer.c -o obj/iseg_layer.o\n",
            "g++ -Iinclude/ -Isrc/ -Wall -Wno-unused-result -Wno-unknown-pragmas -Wfatal-errors -fPIC -Ofast -c ./src/image_opencv.cpp -o obj/image_opencv.o\n",
            "gcc -Wall -Wno-unused-result -Wno-unknown-pragmas -Wfatal-errors -fPIC -Ofast -shared obj/gemm.o obj/utils.o obj/cuda.o obj/deconvolutional_layer.o obj/convolutional_layer.o obj/list.o obj/image.o obj/activations.o obj/im2col.o obj/col2im.o obj/blas.o obj/crop_layer.o obj/dropout_layer.o obj/maxpool_layer.o obj/softmax_layer.o obj/data.o obj/matrix.o obj/network.o obj/connected_layer.o obj/cost_layer.o obj/parser.o obj/option_list.o obj/detection_layer.o obj/route_layer.o obj/upsample_layer.o obj/box.o obj/normalization_layer.o obj/avgpool_layer.o obj/layer.o obj/local_layer.o obj/shortcut_layer.o obj/logistic_layer.o obj/activation_layer.o obj/rnn_layer.o obj/gru_layer.o obj/crnn_layer.o obj/demo.o obj/batchnorm_layer.o obj/region_layer.o obj/reorg_layer.o obj/tree.o obj/lstm_layer.o obj/l2norm_layer.o obj/yolo_layer.o obj/iseg_layer.o obj/image_opencv.o -o libdarknet.so -lm -pthread \n",
            "ar rcs libdarknet.a obj/gemm.o obj/utils.o obj/cuda.o obj/deconvolutional_layer.o obj/convolutional_layer.o obj/list.o obj/image.o obj/activations.o obj/im2col.o obj/col2im.o obj/blas.o obj/crop_layer.o obj/dropout_layer.o obj/maxpool_layer.o obj/softmax_layer.o obj/data.o obj/matrix.o obj/network.o obj/connected_layer.o obj/cost_layer.o obj/parser.o obj/option_list.o obj/detection_layer.o obj/route_layer.o obj/upsample_layer.o obj/box.o obj/normalization_layer.o obj/avgpool_layer.o obj/layer.o obj/local_layer.o obj/shortcut_layer.o obj/logistic_layer.o obj/activation_layer.o obj/rnn_layer.o obj/gru_layer.o obj/crnn_layer.o obj/demo.o obj/batchnorm_layer.o obj/region_layer.o obj/reorg_layer.o obj/tree.o obj/lstm_layer.o obj/l2norm_layer.o obj/yolo_layer.o obj/iseg_layer.o obj/image_opencv.o\n",
            "gcc -Iinclude/ -Isrc/ -Wall -Wno-unused-result -Wno-unknown-pragmas -Wfatal-errors -fPIC -Ofast -c ./examples/captcha.c -o obj/captcha.o\n",
            "gcc -Iinclude/ -Isrc/ -Wall -Wno-unused-result -Wno-unknown-pragmas -Wfatal-errors -fPIC -Ofast -c ./examples/lsd.c -o obj/lsd.o\n",
            "gcc -Iinclude/ -Isrc/ -Wall -Wno-unused-result -Wno-unknown-pragmas -Wfatal-errors -fPIC -Ofast -c ./examples/super.c -o obj/super.o\n",
            "gcc -Iinclude/ -Isrc/ -Wall -Wno-unused-result -Wno-unknown-pragmas -Wfatal-errors -fPIC -Ofast -c ./examples/art.c -o obj/art.o\n",
            "gcc -Iinclude/ -Isrc/ -Wall -Wno-unused-result -Wno-unknown-pragmas -Wfatal-errors -fPIC -Ofast -c ./examples/tag.c -o obj/tag.o\n",
            "gcc -Iinclude/ -Isrc/ -Wall -Wno-unused-result -Wno-unknown-pragmas -Wfatal-errors -fPIC -Ofast -c ./examples/cifar.c -o obj/cifar.o\n",
            "gcc -Iinclude/ -Isrc/ -Wall -Wno-unused-result -Wno-unknown-pragmas -Wfatal-errors -fPIC -Ofast -c ./examples/go.c -o obj/go.o\n",
            "gcc -Iinclude/ -Isrc/ -Wall -Wno-unused-result -Wno-unknown-pragmas -Wfatal-errors -fPIC -Ofast -c ./examples/rnn.c -o obj/rnn.o\n",
            "gcc -Iinclude/ -Isrc/ -Wall -Wno-unused-result -Wno-unknown-pragmas -Wfatal-errors -fPIC -Ofast -c ./examples/segmenter.c -o obj/segmenter.o\n",
            "gcc -Iinclude/ -Isrc/ -Wall -Wno-unused-result -Wno-unknown-pragmas -Wfatal-errors -fPIC -Ofast -c ./examples/regressor.c -o obj/regressor.o\n",
            "gcc -Iinclude/ -Isrc/ -Wall -Wno-unused-result -Wno-unknown-pragmas -Wfatal-errors -fPIC -Ofast -c ./examples/classifier.c -o obj/classifier.o\n",
            "gcc -Iinclude/ -Isrc/ -Wall -Wno-unused-result -Wno-unknown-pragmas -Wfatal-errors -fPIC -Ofast -c ./examples/coco.c -o obj/coco.o\n",
            "gcc -Iinclude/ -Isrc/ -Wall -Wno-unused-result -Wno-unknown-pragmas -Wfatal-errors -fPIC -Ofast -c ./examples/yolo.c -o obj/yolo.o\n",
            "gcc -Iinclude/ -Isrc/ -Wall -Wno-unused-result -Wno-unknown-pragmas -Wfatal-errors -fPIC -Ofast -c ./examples/detector.c -o obj/detector.o\n",
            "gcc -Iinclude/ -Isrc/ -Wall -Wno-unused-result -Wno-unknown-pragmas -Wfatal-errors -fPIC -Ofast -c ./examples/nightmare.c -o obj/nightmare.o\n",
            "gcc -Iinclude/ -Isrc/ -Wall -Wno-unused-result -Wno-unknown-pragmas -Wfatal-errors -fPIC -Ofast -c ./examples/instance-segmenter.c -o obj/instance-segmenter.o\n",
            "gcc -Iinclude/ -Isrc/ -Wall -Wno-unused-result -Wno-unknown-pragmas -Wfatal-errors -fPIC -Ofast -c ./examples/darknet.c -o obj/darknet.o\n",
            "gcc -Iinclude/ -Isrc/ -Wall -Wno-unused-result -Wno-unknown-pragmas -Wfatal-errors -fPIC -Ofast obj/captcha.o obj/lsd.o obj/super.o obj/art.o obj/tag.o obj/cifar.o obj/go.o obj/rnn.o obj/segmenter.o obj/regressor.o obj/classifier.o obj/coco.o obj/yolo.o obj/detector.o obj/nightmare.o obj/instance-segmenter.o obj/darknet.o libdarknet.a -o darknet -lm -pthread  libdarknet.a\n"
          ]
        }
      ],
      "source": [
        "%cd /content/darknet/\n",
        "!make"
      ]
    },
    {
      "cell_type": "markdown",
      "metadata": {
        "id": "bg7Dj2YhIju_"
      },
      "source": [
        "# Test"
      ]
    },
    {
      "cell_type": "code",
      "execution_count": null,
      "metadata": {
        "colab": {
          "base_uri": "https://localhost:8080/"
        },
        "id": "i3Se2wLyIhqL",
        "outputId": "d3cec03b-8920-446d-aa48-befda3ab3b3a"
      },
      "outputs": [
        {
          "name": "stdout",
          "output_type": "stream",
          "text": [
            "[(b'hamburger', 0.9913035035133362, (252.65716552734375, 213.94979858398438, 480.865966796875, 537.388671875))]\n"
          ]
        }
      ],
      "source": [
        "import sys, os\n",
        "sys.path.insert(1, '/content/darknet/python/')\n",
        "import darknet as dn\n",
        "import pdb\n",
        "\n",
        "dn.set_gpu(0)\n",
        "net = dn.load_net(b\"/content/Food100_YOLO_Tools/yolov2-food100.cfg\", b\"/content/AIDiet_data/yolov2-food100.weights\", 0)\n",
        "meta = dn.load_meta(b\"/content/Food100_YOLO_Tools/food100.data\")\n",
        "file_name = \"/content/AIDiet_data/hamburger.jpg\"\n",
        "r = dn.detect(net, meta, file_name.encode())\n",
        "print(r)\n",
        "\n",
        "response = {}\n",
        "response['food_name'] = r[0][0].decode('utf-8')\n",
        "response['confidence'] = r[0][1]\n",
        "response['bb'] = r[0][2]"
      ]
    },
    {
      "cell_type": "code",
      "execution_count": null,
      "metadata": {
        "colab": {
          "base_uri": "https://localhost:8080/"
        },
        "id": "gRuQqIJvJajP",
        "outputId": "16c40073-86a3-4d6d-d04b-cecdc112c456"
      },
      "outputs": [
        {
          "name": "stdout",
          "output_type": "stream",
          "text": [
            "(444, 512, 3)\n",
            "39 57\n"
          ]
        },
        {
          "data": {
            "text/plain": [
              "(0.42, 0.6138461538461538)"
            ]
          },
          "execution_count": 5,
          "metadata": {},
          "output_type": "execute_result"
        }
      ],
      "source": [
        "import cv2\n",
        "\n",
        "im = cv2.imread(file_name)\n",
        "print(im.shape)\n",
        "width, height = im.shape[0], im.shape[1]\n",
        "\n",
        "focal_length = 26\n",
        "sensor_height=0.0014\n",
        "distance = 200 #m -> cm\n",
        "\n",
        "w, h = 252-213, 537-480\n",
        "print(w, h)\n",
        "\n",
        "width = w\n",
        "height = h\n",
        "width * sensor_height * distance / focal_length , height * sensor_height * distance / focal_length"
      ]
    },
    {
      "cell_type": "markdown",
      "metadata": {
        "id": "GBpF2Mgh8Vrx"
      },
      "source": [
        "# Object Detection"
      ]
    },
    {
      "cell_type": "markdown",
      "metadata": {
        "id": "rDUjEGWtvlMl"
      },
      "source": [
        "Result Image !!!!:)"
      ]
    },
    {
      "cell_type": "code",
      "execution_count": null,
      "metadata": {
        "id": "zIvFqqdTlIRi"
      },
      "outputs": [],
      "source": [
        "import sys, os\n",
        "sys.path.insert(1, '/content/darknet/python/')\n",
        "import darknet as dn\n",
        "import pdb\n",
        "\n",
        "from flask import *\n",
        "from flask_ngrok import run_with_ngrok\n",
        "app = Flask(__name__)\n",
        "\n",
        "import time\n",
        "  \n",
        "\n",
        "@app.route('/detect')\n",
        "def detectFood():\n",
        "  start_time = time.time()\n",
        "  dn.set_gpu(0)\n",
        "  net = dn.load_net(b\"/content/Food100_YOLO_Tools/yolov2-food100.cfg\", b\"/content/AIDiet_data/yolov2-food100.weights\", 0)\n",
        "  meta = dn.load_meta(b\"/content/Food100_YOLO_Tools/food100.data\")\n",
        "  file_name = \"/content/AIDiet_data/hamburger.jpg\"\n",
        "  r = dn.detect(net, meta, file_name.encode())\n",
        "  print(r)\n",
        "\n",
        "  response = {}\n",
        "  response['food_name'] = r[0][0].decode('utf-8')\n",
        "  response['confidence'] = r[0][1]\n",
        "  response['bb'] = r[0][2]\n",
        "  response['elapsed_time'] = time.time()-start_time\n",
        "\n",
        "  return response"
      ]
    },
    {
      "cell_type": "markdown",
      "metadata": {
        "id": "ywNYr0d7yQ23"
      },
      "source": [
        "# Segmentation"
      ]
    },
    {
      "cell_type": "code",
      "execution_count": null,
      "metadata": {
        "colab": {
          "base_uri": "https://localhost:8080/"
        },
        "id": "ZziOyjj6ySCk",
        "outputId": "b0ee3d4d-36c7-44ee-af85-7aae5ea3b931"
      },
      "outputs": [
        {
          "name": "stdout",
          "output_type": "stream",
          "text": [
            "/content\n",
            "fatal: destination path 'FoodSeg103-Benchmark-v1' already exists and is not an empty directory.\n"
          ]
        },
        {
          "name": "stderr",
          "output_type": "stream",
          "text": [
            "Exception in thread _colab_inspector_thread:\n",
            "Traceback (most recent call last):\n",
            "  File \"/usr/lib/python3.7/threading.py\", line 926, in _bootstrap_inner\n",
            "    self.run()\n",
            "  File \"/usr/lib/python3.7/threading.py\", line 870, in run\n",
            "    self._target(*self._args, **self._kwargs)\n",
            "  File \"/usr/local/lib/python3.7/dist-packages/google/colab/_debugpy.py\", line 64, in inspector_thread\n",
            "    _variable_inspector.run(shell, time)\n",
            "  File \"/usr/local/lib/python3.7/dist-packages/google/colab/_variable_inspector.py\", line 27, in run\n",
            "    globals().clear()\n",
            "TypeError: 'module' object is not callable\n",
            "\n"
          ]
        },
        {
          "name": "stdout",
          "output_type": "stream",
          "text": [
            "\u001b[33mWARNING: Running pip as the 'root' user can result in broken permissions and conflicting behaviour with the system package manager. It is recommended to use a virtual environment instead: https://pip.pypa.io/warnings/venv\u001b[0m\u001b[33m\n",
            "\u001b[0m"
          ]
        }
      ],
      "source": [
        "%cd /content/\n",
        "!git clone https://github.com/LARC-CMU-SMU/FoodSeg103-Benchmark-v1.git\n",
        "!pip install -q condacolab"
      ]
    },
    {
      "cell_type": "code",
      "execution_count": null,
      "metadata": {
        "id": "Ps5XzCHoyt7j"
      },
      "outputs": [],
      "source": [
        "!rm -rf /content/FoodSeg103-Benchmark-v1/checkpoints\n",
        "!mkdir /content/FoodSeg103-Benchmark-v1/checkpoints/\n",
        "!cp /content/AIDiet_data/pspnet_r50-d8_512x1024_40k_cityscapes_20200605_003338-2966598c.pth /content/FoodSeg103-Benchmark-v1/checkpoints/"
      ]
    },
    {
      "cell_type": "code",
      "execution_count": null,
      "metadata": {
        "colab": {
          "base_uri": "https://localhost:8080/"
        },
        "id": "YfDAZOEPyfw8",
        "outputId": "ec0d3b0e-d148-4049-ebf9-3406a84aad41"
      },
      "outputs": [
        {
          "name": "stdout",
          "output_type": "stream",
          "text": [
            "✨🍰✨ Everything looks OK!\n"
          ]
        }
      ],
      "source": [
        "import condacolab\n",
        "condacolab.install()"
      ]
    },
    {
      "cell_type": "code",
      "execution_count": null,
      "metadata": {
        "colab": {
          "base_uri": "https://localhost:8080/"
        },
        "id": "6qfqG959zwEj",
        "outputId": "b5ac2acf-8efe-4466-a5fe-cf6e1d1cec95"
      },
      "outputs": [
        {
          "name": "stdout",
          "output_type": "stream",
          "text": [
            "✨🍰✨ Everything looks OK!\n"
          ]
        }
      ],
      "source": [
        "import condacolab\n",
        "condacolab.check()"
      ]
    },
    {
      "cell_type": "code",
      "execution_count": null,
      "metadata": {
        "colab": {
          "background_save": true,
          "base_uri": "https://localhost:8080/"
        },
        "id": "dYN5NYQ_z_Uk",
        "outputId": "7a9193ea-934b-49da-cfd1-1ce024b0efe5"
      },
      "outputs": [
        {
          "name": "stdout",
          "output_type": "stream",
          "text": [
            "\n",
            "                  __    __    __    __\n",
            "                 /  \\  /  \\  /  \\  /  \\\n",
            "                /    \\/    \\/    \\/    \\\n",
            "███████████████/  /██/  /██/  /██/  /████████████████████████\n",
            "              /  / \\   / \\   / \\   / \\  \\____\n",
            "             /  /   \\_/   \\_/   \\_/   \\    o \\__,\n",
            "            / _/                       \\_____/  `\n",
            "            |/\n",
            "        ███╗   ███╗ █████╗ ███╗   ███╗██████╗  █████╗\n",
            "        ████╗ ████║██╔══██╗████╗ ████║██╔══██╗██╔══██╗\n",
            "        ██╔████╔██║███████║██╔████╔██║██████╔╝███████║\n",
            "        ██║╚██╔╝██║██╔══██║██║╚██╔╝██║██╔══██╗██╔══██║\n",
            "        ██║ ╚═╝ ██║██║  ██║██║ ╚═╝ ██║██████╔╝██║  ██║\n",
            "        ╚═╝     ╚═╝╚═╝  ╚═╝╚═╝     ╚═╝╚═════╝ ╚═╝  ╚═╝\n",
            "\n",
            "        mamba (0.25.0) supported by @QuantStack\n",
            "\n",
            "        GitHub:  https://github.com/mamba-org/mamba\n",
            "        Twitter: https://twitter.com/QuantStack\n",
            "\n",
            "█████████████████████████████████████████████████████████████\n",
            "\n",
            "  Package              Version  Build                Channel                   Size\n",
            "─────────────────────────────────────────────────────────────────────────────────────\n",
            "  Install:\n",
            "─────────────────────────────────────────────────────────────────────────────────────\n",
            "\n",
            "\u001b[32m  + cudatoolkit    \u001b[00m     11.2.2  hbe64b41_10          conda-forge/linux-64     919MB\n",
            "\u001b[32m  + fftw           \u001b[00m     3.3.10  nompi_hf0379b8_105   conda-forge/linux-64       2MB\n",
            "\u001b[32m  + libblas        \u001b[00m      3.9.0  16_linux64_openblas  conda-forge/linux-64      13kB\n",
            "\u001b[32m  + libcblas       \u001b[00m      3.9.0  16_linux64_openblas  conda-forge/linux-64      13kB\n",
            "\u001b[32m  + libgfortran-ng \u001b[00m     12.2.0  h69a702a_19          conda-forge/linux-64      23kB\n",
            "\u001b[32m  + libgfortran5   \u001b[00m     12.2.0  h337968e_19          conda-forge/linux-64       2MB\n",
            "\u001b[32m  + liblapack      \u001b[00m      3.9.0  16_linux64_openblas  conda-forge/linux-64      13kB\n",
            "\u001b[32m  + libopenblas    \u001b[00m     0.3.21  pthreads_h78a6416_3  conda-forge/linux-64      11MB\n",
            "\u001b[32m  + numpy          \u001b[00m     1.21.6  py37h976b520_0       conda-forge/linux-64       6MB\n",
            "\u001b[32m  + ocl-icd        \u001b[00m      2.3.1  h7f98852_0           conda-forge/linux-64     121kB\n",
            "\u001b[32m  + ocl-icd-system \u001b[00m      1.0.0  1                    conda-forge/linux-64       4kB\n",
            "\u001b[32m  + openmm         \u001b[00m      7.7.0  py37h9d45a84_1       conda-forge/linux-64      12MB\n",
            "\n",
            "  Upgrade:\n",
            "─────────────────────────────────────────────────────────────────────────────────────\n",
            "\n",
            "\u001b[31m  - ca-certificates\u001b[00m  2022.6.15  ha878542_0           conda-forge                   \n",
            "\u001b[32m  + ca-certificates\u001b[00m  2022.9.24  ha878542_0           conda-forge/linux-64     154kB\n",
            "\u001b[31m  - certifi        \u001b[00m  2022.6.15  py37h89c1867_0       conda-forge                   \n",
            "\u001b[32m  + certifi        \u001b[00m  2022.9.24  pyhd8ed1ab_0         conda-forge/noarch       159kB\n",
            "\u001b[31m  - openssl        \u001b[00m     1.1.1q  h166bdaf_0           conda-forge                   \n",
            "\u001b[32m  + openssl        \u001b[00m     1.1.1s  h166bdaf_0           conda-forge/linux-64       2MB\n",
            "\n",
            "  Summary:\n",
            "\n",
            "  Install: 12 packages\n",
            "  Upgrade: 3 packages\n",
            "\n",
            "  Total download: 955MB\n",
            "\n",
            "─────────────────────────────────────────────────────────────────────────────────────\n",
            "\n",
            "Preparing transaction: ...working... done\n",
            "Verifying transaction: ...working... done\n",
            "Executing transaction: ...working... By downloading and using the CUDA Toolkit conda packages, you accept the terms and conditions of the CUDA End User License Agreement (EULA): https://docs.nvidia.com/cuda/eula/index.html\n",
            "\n",
            "done\n",
            "Collecting package metadata (current_repodata.json): - \b\b\\ \b\b| \b\b/ \b\b- \b\b\\ \b\b| \b\b/ \b\b- \b\b\\ \b\b| \b\b/ \b\b- \b\b\\ \b\b| \b\b/ \b\b- \b\b\\ \b\b| \b\b/ \b\b- \b\b\\ \b\b| \b\b/ \b\b- \b\b\\ \b\b| \b\b/ \b\b- \b\b\\ \b\b| \b\b/ \b\b- \b\b\\ \b\b| \b\b/ \b\b- \b\b\\ \b\b| \b\b/ \b\b- \b\b\\ \b\b| \b\b/ \b\b- \b\b\\ \b\b| \b\b/ \b\b- \b\b\\ \b\b| \b\b/ \b\b- \b\b\\ \b\b| \b\b/ \b\b- \b\b\\ \b\b| \b\b/ \b\b- \b\b\\ \b\b| \b\b/ \b\b- \b\b\\ \b\b| \b\b/ \b\b- \b\b\\ \b\b| \b\b/ \b\b- \b\b\\ \b\b| \b\b/ \b\b- \b\b\\ \b\b| \b\b/ \b\b- \b\b\\ \b\b| \b\b/ \b\b- \b\b\\ \b\b| \b\b/ \b\b- \b\b\\ \b\b| \b\b/ \b\b- \b\b\\ \b\b| \b\b/ \b\b- \b\b\\ \b\b| \b\b/ \b\b- \b\b\\ \b\b| \b\b/ \b\b- \b\b\\ \b\b| \b\b/ \b\b- \b\b\\ \b\b| \b\b/ \b\b- \b\b\\ \b\b| \b\bdone\n",
            "Solving environment: - \b\b\\ \b\bdone\n",
            "\n",
            "\n",
            "==> WARNING: A newer version of conda exists. <==\n",
            "  current version: 4.14.0\n",
            "  latest version: 22.9.0\n",
            "\n",
            "Please update conda by running\n",
            "\n",
            "    $ conda update -n base -c conda-forge conda\n",
            "\n",
            "\n",
            "\n",
            "## Package Plan ##\n",
            "\n",
            "  environment location: /usr/local/envs/open-mmlab\n",
            "\n",
            "  added / updated specs:\n",
            "    - python=3.7\n",
            "\n",
            "\n",
            "The following packages will be downloaded:\n",
            "\n",
            "    package                    |            build\n",
            "    ---------------------------|-----------------\n",
            "    ld_impl_linux-64-2.39      |       hcc3a1bd_1         675 KB  conda-forge\n",
            "    libgcc-ng-12.2.0           |      h65d4601_19         931 KB  conda-forge\n",
            "    libgomp-12.2.0             |      h65d4601_19         455 KB  conda-forge\n",
            "    libsqlite-3.40.0           |       h753d276_0         791 KB  conda-forge\n",
            "    libstdcxx-ng-12.2.0        |      h46fd767_19         4.3 MB  conda-forge\n",
            "    libzlib-1.2.13             |       h166bdaf_4          64 KB  conda-forge\n",
            "    openssl-3.0.7              |       h166bdaf_0         2.8 MB  conda-forge\n",
            "    pip-22.3.1                 |     pyhd8ed1ab_0         1.5 MB  conda-forge\n",
            "    python-3.7.12              |hf930737_100_cpython        57.3 MB  conda-forge\n",
            "    setuptools-65.5.1          |     pyhd8ed1ab_0         731 KB  conda-forge\n",
            "    sqlite-3.40.0              |       h4ff8645_0         801 KB  conda-forge\n",
            "    wheel-0.38.4               |     pyhd8ed1ab_0          32 KB  conda-forge\n",
            "    ------------------------------------------------------------\n",
            "                                           Total:        70.3 MB\n",
            "\n",
            "The following NEW packages will be INSTALLED:\n",
            "\n",
            "  _libgcc_mutex      conda-forge/linux-64::_libgcc_mutex-0.1-conda_forge\n",
            "  _openmp_mutex      conda-forge/linux-64::_openmp_mutex-4.5-2_gnu\n",
            "  ca-certificates    conda-forge/linux-64::ca-certificates-2022.9.24-ha878542_0\n",
            "  ld_impl_linux-64   conda-forge/linux-64::ld_impl_linux-64-2.39-hcc3a1bd_1\n",
            "  libffi             conda-forge/linux-64::libffi-3.4.2-h7f98852_5\n",
            "  libgcc-ng          conda-forge/linux-64::libgcc-ng-12.2.0-h65d4601_19\n",
            "  libgomp            conda-forge/linux-64::libgomp-12.2.0-h65d4601_19\n",
            "  libnsl             conda-forge/linux-64::libnsl-2.0.0-h7f98852_0\n",
            "  libsqlite          conda-forge/linux-64::libsqlite-3.40.0-h753d276_0\n",
            "  libstdcxx-ng       conda-forge/linux-64::libstdcxx-ng-12.2.0-h46fd767_19\n",
            "  libzlib            conda-forge/linux-64::libzlib-1.2.13-h166bdaf_4\n",
            "  ncurses            conda-forge/linux-64::ncurses-6.3-h27087fc_1\n",
            "  openssl            conda-forge/linux-64::openssl-3.0.7-h166bdaf_0\n",
            "  pip                conda-forge/noarch::pip-22.3.1-pyhd8ed1ab_0\n",
            "  python             conda-forge/linux-64::python-3.7.12-hf930737_100_cpython\n",
            "  readline           conda-forge/linux-64::readline-8.1.2-h0f457ee_0\n",
            "  setuptools         conda-forge/noarch::setuptools-65.5.1-pyhd8ed1ab_0\n",
            "  sqlite             conda-forge/linux-64::sqlite-3.40.0-h4ff8645_0\n",
            "  tk                 conda-forge/linux-64::tk-8.6.12-h27826a3_0\n",
            "  wheel              conda-forge/noarch::wheel-0.38.4-pyhd8ed1ab_0\n",
            "  xz                 conda-forge/linux-64::xz-5.2.6-h166bdaf_0\n",
            "\n",
            "\n",
            "\n",
            "Downloading and Extracting Packages\n",
            "libsqlite-3.40.0     | 791 KB    | : 100% 1.0/1 [00:00<00:00,  7.12it/s]\n",
            "openssl-3.0.7        | 2.8 MB    | : 100% 1.0/1 [00:00<00:00,  2.71it/s]\n",
            "libzlib-1.2.13       | 64 KB     | : 100% 1.0/1 [00:00<00:00, 30.03it/s]\n",
            "ld_impl_linux-64-2.3 | 675 KB    | : 100% 1.0/1 [00:00<00:00, 12.88it/s]\n",
            "libgomp-12.2.0       | 455 KB    | : 100% 1.0/1 [00:00<00:00, 12.07it/s]\n",
            "sqlite-3.40.0        | 801 KB    | : 100% 1.0/1 [00:00<00:00,  8.25it/s]\n",
            "python-3.7.12        | 57.3 MB   | : 100% 1.0/1 [00:05<00:00,  5.90s/it]               \n",
            "setuptools-65.5.1    | 731 KB    | : 100% 1.0/1 [00:00<00:00,  5.69it/s]\n",
            "wheel-0.38.4         | 32 KB     | : 100% 1.0/1 [00:00<00:00, 33.20it/s]\n",
            "pip-22.3.1           | 1.5 MB    | : 100% 1.0/1 [00:00<00:00,  3.23it/s]\n",
            "libgcc-ng-12.2.0     | 931 KB    | : 100% 1.0/1 [00:00<00:00,  7.76it/s]\n",
            "libstdcxx-ng-12.2.0  | 4.3 MB    | : 100% 1.0/1 [00:00<00:00,  1.87it/s]\n",
            "Preparing transaction: / \b\b- \b\b\\ \b\bdone\n",
            "Verifying transaction: / \b\b- \b\b\\ \b\b| \b\b/ \b\b- \b\b\\ \b\b| \b\b/ \b\b- \b\b\\ \b\b| \b\b/ \b\b- \b\b\\ \b\bdone\n",
            "Executing transaction: / \b\b- \b\b\\ \b\b| \b\b/ \b\b- \b\b\\ \b\b| \b\b/ \b\b- \b\b\\ \b\b| \b\b/ \b\b- \b\b\\ \b\b| \b\b/ \b\b- \b\b\\ \b\b| \b\b/ \b\b- \b\b\\ \b\b| \b\b/ \b\b- \b\bdone\n",
            "#\n",
            "# To activate this environment, use\n",
            "#\n",
            "#     $ conda activate open-mmlab\n",
            "#\n",
            "# To deactivate an active environment, use\n",
            "#\n",
            "#     $ conda deactivate\n",
            "\n",
            "Retrieving notices: ...working... done\n",
            "\n",
            "CommandNotFoundError: Your shell has not been properly configured to use 'conda activate'.\n",
            "To initialize your shell, run\n",
            "\n",
            "    $ conda init <SHELL_NAME>\n",
            "\n",
            "Currently supported shells are:\n",
            "  - bash\n",
            "  - fish\n",
            "  - tcsh\n",
            "  - xonsh\n",
            "  - zsh\n",
            "  - powershell\n",
            "\n",
            "See 'conda init --help' for more information and options.\n",
            "\n",
            "IMPORTANT: You may need to close and restart your shell after running 'conda init'.\n",
            "\n",
            "\n",
            "Collecting package metadata (current_repodata.json): - \b\b\\ \b\b| \b\b/ \b\b- \b\b\\ \b\b| \b\b/ \b\b- \b\b\\ \b\b| \b\b/ \b\b- \b\b\\ \b\b| \b\b/ \b\b- \b\b\\ \b\b| \b\b/ \b\bdone\n",
            "Solving environment: \\ \b\bfailed with initial frozen solve. Retrying with flexible solve.\n",
            "Collecting package metadata (repodata.json): / \b\b- \b\b\\ \b\b| \b\b/ \b\b- \b\b\\ \b\b| \b\b/ \b\b- \b\b\\ \b\b| \b\b/ \b\b- \b\b\\ \b\b| \b\b/ \b\b- \b\b\\ \b\b| \b\b/ \b\b- \b\b\\ \b\b| \b\b/ \b\b- \b\b\\ \b\b| \b\b/ \b\b- \b\b\\ \b\b| \b\b/ \b\b- \b\b\\ \b\b| \b\b/ \b\b- \b\b\\ \b\b| \b\b/ \b\b- \b\b\\ \b\b| \b\b/ \b\b- \b\b\\ \b\b| \b\b/ \b\b- \b\b\\ \b\b| \b\b/ \b\b- \b\b\\ \b\b| \b\b/ \b\b- \b\b\\ \b\b| \b\b/ \b\b- \b\b\\ \b\b| \b\b/ \b\b- \b\b\\ \b\b| \b\b/ \b\b- \b\b\\ \b\b| \b\b/ \b\b- \b\b\\ \b\b| \b\b/ \b\b- \b\b\\ \b\b| \b\b/ \b\b- \b\b\\ \b\b| \b\b/ \b\b- \b\b\\ \b\b| \b\b/ \b\b- \b\b\\ \b\b| \b\b/ \b\b- \b\b\\ \b\b| \b\b/ \b\b- \b\b\\ \b\b| \b\b/ \b\b- \b\b\\ \b\b| \b\b/ \b\b- \b\b\\ \b\b| \b\b/ \b\b- \b\b\\ \b\b| \b\b/ \b\b- \b\b\\ \b\b| \b\b/ \b\b- \b\b\\ \b\b| \b\b/ \b\b- \b\b\\ \b\b| \b\b/ \b\b- \b\b\\ \b\b| \b\b/ \b\b- \b\b\\ \b\b| \b\b/ \b\b- \b\b\\ \b\b| \b\b/ \b\b- \b\b\\ \b\b| \b\b/ \b\b- \b\b\\ \b\b| \b\b/ \b\b- \b\b\\ \b\b| \b\b/ \b\b- \b\b\\ \b\b| \b\b/ \b\b- \b\b\\ \b\b| \b\b/ \b\b- \b\b\\ \b\b| \b\b/ \b\b- \b\b\\ \b\b| \b\b/ \b\b- \b\b\\ \b\b| \b\b/ \b\b- \b\b\\ \b\b| \b\b/ \b\b- \b\b\\ \b\b| \b\b/ \b\b- \b\b\\ \b\b| \b\b/ \b\b- \b\b\\ \b\b| \b\b/ \b\b- \b\b\\ \b\b| \b\b/ \b\b- \b\b\\ \b\b| \b\b/ \b\b- \b\b\\ \b\b| \b\b/ \b\b- \b\b\\ \b\b| \b\b/ \b\b- \b\b\\ \b\b| \b\b/ \b\b- \b\b\\ \b\b| \b\b/ \b\b- \b\b\\ \b\b| \b\b/ \b\b- \b\b\\ \b\b| \b\b/ \b\b- \b\b\\ \b\b| \b\b/ \b\b- \b\b\\ \b\b| \b\b/ \b\b- \b\b\\ \b\b| \b\b/ \b\b- \b\b\\ \b\b| \b\b/ \b\b- \b\b\\ \b\b| \b\b/ \b\b- \b\b\\ \b\b| \b\b/ \b\b- \b\b\\ \b\b| \b\b/ \b\b- \b\b\\ \b\b| \b\b/ \b\b- \b\b\\ \b\b| \b\b/ \b\b- \b\b\\ \b\b| \b\b/ \b\b- \b\b\\ \b\b| \b\b/ \b\b- \b\b\\ \b\b| \b\b/ \b\b- \b\b\\ \b\b| \b\b/ \b\b- \b\b\\ \b\b| \b\b/ \b\b- \b\b\\ \b\b| \b\b/ \b\b- \b\b\\ \b\b| \b\b/ \b\b- \b\b\\ \b\b| \b\b/ \b\b- \b\b\\ \b\b| \b\b/ \b\b- \b\b\\ \b\b| \b\b/ \b\b- \b\b\\ \b\b| \b\b/ \b\b- \b\b\\ \b\b| \b\b/ \b\b- \b\b\\ \b\b| \b\b/ \b\b- \b\b\\ \b\b| \b\b/ \b\b- \b\b\\ \b\b| \b\b/ \b\b- \b\b\\ \b\b| \b\b/ \b\b- \b\b\\ \b\b| \b\b/ \b\b- \b\b\\ \b\b| \b\b/ \b\b- \b\b\\ \b\bdone\n",
            "Solving environment: / \b\b- \b\b\\ \b\b| \b\b/ \b\b- \b\b\\ \b\b| \b\b/ \b\b- \b\b\\ \b\b| \b\b/ \b\b- \b\b\\ \b\b| \b\b/ \b\b- \b\b\\ \b\b| \b\b/ \b\b- \b\b\\ \b\b| \b\b/ \b\b- \b\b\\ \b\b| \b\b/ \b\b- \b\b\\ \b\b| \b\b/ \b\b- \b\b\\ \b\b| \b\b/ \b\b- \b\b\\ \b\b| \b\b/ \b\b- \b\b\\ \b\b| \b\b/ \b\b- \b\b\\ \b\b| \b\b/ \b\b- \b\b\\ \b\b| \b\b/ \b\b- \b\b\\ \b\b| \b\b/ \b\b- \b\b\\ \b\b| \b\b/ \b\b- \b\b\\ \b\b| \b\b/ \b\b- \b\b\\ \b\b| \b\b/ \b\b- \b\b\\ \b\b| \b\b/ \b\b- \b\b\\ \b\b| \b\b/ \b\b- \b\b\\ \b\b| \b\b/ \b\b- \b\b\\ \b\b| \b\b/ \b\b- \b\b\\ \b\b| \b\b/ \b\b- \b\b\\ \b\b| \b\b/ \b\b- \b\b\\ \b\b| \b\b/ \b\b- \b\b\\ \b\b| \b\b/ \b\b- \b\b\\ \b\b| \b\b/ \b\b- \b\b\\ \b\b| \b\b/ \b\b- \b\b\\ \b\b| \b\b/ \b\b- \b\b\\ \b\b| \b\b/ \b\b- \b\b\\ \b\b| \b\b/ \b\b- \b\b\\ \b\b| \b\b/ \b\b- \b\b\\ \b\b| \b\b/ \b\b- \b\b\\ \b\b| \b\b/ \b\b- \b\b\\ \b\b| \b\b/ \b\b- \b\b\\ \b\b| \b\b/ \b\b- \b\b\\ \b\b| \b\b/ \b\b- \b\b\\ \b\b| \b\b/ \b\b- \b\b\\ \b\b| \b\b/ \b\b- \b\b\\ \b\b| \b\b/ \b\b- \b\b\\ \b\b| \b\b/ \b\b- \b\b\\ \b\b| \b\b/ \b\b- \b\b\\ \b\b| \b\b/ \b\b- \b\b\\ \b\b| \b\b/ \b\b- \b\b\\ \b\b| \b\b/ \b\b- \b\b\\ \b\b| \b\b/ \b\b- \b\b\\ \b\b| \b\b/ \b\b- \b\b\\ \b\b| \b\b/ \b\b- \b\b\\ \b\b| \b\b/ \b\b- \b\b\\ \b\b| \b\b/ \b\b- \b\b\\ \b\b| \b\b/ \b\b- \b\b\\ \b\b| \b\b/ \b\b- \b\b\\ \b\b| \b\b/ \b\b- \b\b\\ \b\b| \b\b/ \b\b- \b\b\\ \b\b| \b\b/ \b\b- \b\b\\ \b\b| \b\b/ \b\b- \b\b\\ \b\b| \b\b/ \b\b- \b\b\\ \b\b| \b\b/ \b\b- \b\b\\ WARNING conda.core.solve:_add_specs(649): pinned spec cudatoolkit=11.2 conflicts with explicit specs.  Overriding pinned spec.\n",
            "\b\b| \b\b/ \b\b- \b\b\\ \b\b| \b\b/ \b\b- \b\b\\ \b\b| \b\b/ \b\b- \b\b\\ \b\b| \b\b/ \b\b- \b\b\\ \b\b| \b\b/ \b\b- \b\b\\ \b\b| \b\b/ \b\b- \b\b\\ \b\b| \b\b/ \b\b- \b\b\\ \b\b| \b\b/ \b\b- \b\b\\ \b\b| \b\b/ \b\b- \b\b\\ \b\b| \b\b/ \b\b- \b\b\\ \b\b| \b\b/ \b\b- \b\b\\ \b\b| \b\b/ \b\b- \b\b\\ \b\b| \b\b/ \b\b- \b\b\\ \b\b| \b\b/ \b\b- \b\b\\ \b\b| \b\b/ \b\b- \b\b\\ \b\b| \b\b/ \b\b- \b\b\\ \b\b| \b\b/ \b\b- \b\b\\ \b\b| \b\bdone\n",
            "\n",
            "\n",
            "==> WARNING: A newer version of conda exists. <==\n",
            "  current version: 4.14.0\n",
            "  latest version: 22.9.0\n",
            "\n",
            "Please update conda by running\n",
            "\n",
            "    $ conda update -n base -c conda-forge conda\n",
            "\n",
            "\n",
            "\n",
            "## Package Plan ##\n",
            "\n",
            "  environment location: /usr/local\n",
            "\n",
            "  added / updated specs:\n",
            "    - cudatoolkit=10.1\n",
            "    - pytorch=1.6.0\n",
            "    - torchvision\n",
            "\n",
            "\n",
            "The following packages will be downloaded:\n",
            "\n",
            "    package                    |            build\n",
            "    ---------------------------|-----------------\n",
            "    _openmp_mutex-4.5          |       2_kmp_llvm           6 KB  conda-forge\n",
            "    blas-2.116                 |              mkl          13 KB  conda-forge\n",
            "    blas-devel-3.9.0           |   16_linux64_mkl          12 KB  conda-forge\n",
            "    cudatoolkit-10.1.243       |      h8cb64d8_10       427.6 MB  conda-forge\n",
            "    freetype-2.12.1            |       hca18f0e_0         884 KB  conda-forge\n",
            "    jpeg-9e                    |       h166bdaf_2         269 KB  conda-forge\n",
            "    lcms2-2.14                 |       h6ed2654_0         256 KB  conda-forge\n",
            "    lerc-4.0.0                 |       h27087fc_0         275 KB  conda-forge\n",
            "    libblas-3.9.0              |   16_linux64_mkl          13 KB  conda-forge\n",
            "    libcblas-3.9.0             |   16_linux64_mkl          12 KB  conda-forge\n",
            "    libdeflate-1.14            |       h166bdaf_0          81 KB  conda-forge\n",
            "    liblapack-3.9.0            |   16_linux64_mkl          12 KB  conda-forge\n",
            "    liblapacke-3.9.0           |   16_linux64_mkl          12 KB  conda-forge\n",
            "    libpng-1.6.38              |       h753d276_0         371 KB  conda-forge\n",
            "    libtiff-4.4.0              |       h55922b4_4         651 KB  conda-forge\n",
            "    libwebp-base-1.2.4         |       h166bdaf_0         404 KB  conda-forge\n",
            "    libxcb-1.13                |    h7f98852_1004         391 KB  conda-forge\n",
            "    llvm-openmp-14.0.4         |       he0ac6c6_0         5.8 MB  conda-forge\n",
            "    mkl-2022.1.0               |     h84fe81f_915       199.6 MB  conda-forge\n",
            "    mkl-devel-2022.1.0         |     ha770c72_916          25 KB  conda-forge\n",
            "    mkl-include-2022.1.0       |     h84fe81f_915         745 KB  conda-forge\n",
            "    ninja-1.11.0               |       h924138e_0         2.8 MB  conda-forge\n",
            "    openjpeg-2.5.0             |       h7d73246_1         533 KB  conda-forge\n",
            "    openmm-7.6.0               |   py37hd49da16_0        10.8 MB  conda-forge\n",
            "    pillow-9.2.0               |   py37h850a105_2        45.0 MB  conda-forge\n",
            "    pthread-stubs-0.4          |    h36c2ea0_1001           5 KB  conda-forge\n",
            "    python_abi-3.7             |          3_cp37m           6 KB  conda-forge\n",
            "    pytorch-1.6.0              |py3.7_cuda10.1.243_cudnn7.6.3_0       515.9 MB  pytorch\n",
            "    tbb-2021.7.0               |       h924138e_0         2.0 MB  conda-forge\n",
            "    torchvision-0.7.0          |       py37_cu101        11.0 MB  pytorch\n",
            "    xorg-libxau-1.0.9          |       h7f98852_0          13 KB  conda-forge\n",
            "    xorg-libxdmcp-1.1.3        |       h7f98852_0          19 KB  conda-forge\n",
            "    ------------------------------------------------------------\n",
            "                                           Total:        1.20 GB\n",
            "\n",
            "The following NEW packages will be INSTALLED:\n",
            "\n",
            "  blas               conda-forge/linux-64::blas-2.116-mkl\n",
            "  blas-devel         conda-forge/linux-64::blas-devel-3.9.0-16_linux64_mkl\n",
            "  freetype           conda-forge/linux-64::freetype-2.12.1-hca18f0e_0\n",
            "  jpeg               conda-forge/linux-64::jpeg-9e-h166bdaf_2\n",
            "  lcms2              conda-forge/linux-64::lcms2-2.14-h6ed2654_0\n",
            "  lerc               conda-forge/linux-64::lerc-4.0.0-h27087fc_0\n",
            "  libdeflate         conda-forge/linux-64::libdeflate-1.14-h166bdaf_0\n",
            "  liblapacke         conda-forge/linux-64::liblapacke-3.9.0-16_linux64_mkl\n",
            "  libpng             conda-forge/linux-64::libpng-1.6.38-h753d276_0\n",
            "  libtiff            conda-forge/linux-64::libtiff-4.4.0-h55922b4_4\n",
            "  libwebp-base       conda-forge/linux-64::libwebp-base-1.2.4-h166bdaf_0\n",
            "  libxcb             conda-forge/linux-64::libxcb-1.13-h7f98852_1004\n",
            "  llvm-openmp        conda-forge/linux-64::llvm-openmp-14.0.4-he0ac6c6_0\n",
            "  mkl                conda-forge/linux-64::mkl-2022.1.0-h84fe81f_915\n",
            "  mkl-devel          conda-forge/linux-64::mkl-devel-2022.1.0-ha770c72_916\n",
            "  mkl-include        conda-forge/linux-64::mkl-include-2022.1.0-h84fe81f_915\n",
            "  ninja              conda-forge/linux-64::ninja-1.11.0-h924138e_0\n",
            "  openjpeg           conda-forge/linux-64::openjpeg-2.5.0-h7d73246_1\n",
            "  pillow             conda-forge/linux-64::pillow-9.2.0-py37h850a105_2\n",
            "  pthread-stubs      conda-forge/linux-64::pthread-stubs-0.4-h36c2ea0_1001\n",
            "  pytorch            pytorch/linux-64::pytorch-1.6.0-py3.7_cuda10.1.243_cudnn7.6.3_0\n",
            "  tbb                conda-forge/linux-64::tbb-2021.7.0-h924138e_0\n",
            "  torchvision        pytorch/linux-64::torchvision-0.7.0-py37_cu101\n",
            "  xorg-libxau        conda-forge/linux-64::xorg-libxau-1.0.9-h7f98852_0\n",
            "  xorg-libxdmcp      conda-forge/linux-64::xorg-libxdmcp-1.1.3-h7f98852_0\n",
            "\n",
            "The following packages will be UPDATED:\n",
            "\n",
            "  python_abi                                    3.7-2_cp37m --> 3.7-3_cp37m\n",
            "\n",
            "The following packages will be DOWNGRADED:\n",
            "\n",
            "  _openmp_mutex                                   4.5-2_gnu --> 4.5-2_kmp_llvm\n",
            "  cudatoolkit                            11.2.2-hbe64b41_10 --> 10.1.243-h8cb64d8_10\n",
            "  libblas                         3.9.0-16_linux64_openblas --> 3.9.0-16_linux64_mkl\n",
            "  libcblas                        3.9.0-16_linux64_openblas --> 3.9.0-16_linux64_mkl\n",
            "  liblapack                       3.9.0-16_linux64_openblas --> 3.9.0-16_linux64_mkl\n",
            "  openmm                               7.7.0-py37h9d45a84_1 --> 7.6.0-py37hd49da16_0\n",
            "\n",
            "\n",
            "\n",
            "Downloading and Extracting Packages\n",
            "libblas-3.9.0        | 13 KB     | : 100% 1.0/1 [00:00<00:00, 18.69it/s]\n",
            "libtiff-4.4.0        | 651 KB    | : 100% 1.0/1 [00:00<00:00,  7.65it/s]\n",
            "libdeflate-1.14      | 81 KB     | : 100% 1.0/1 [00:00<00:00, 21.03it/s]\n",
            "libwebp-base-1.2.4   | 404 KB    | : 100% 1.0/1 [00:00<00:00, 12.91it/s]\n",
            "openmm-7.6.0         | 10.8 MB   | : 100% 1.0/1 [00:03<00:00,  3.15s/it]               \n",
            "xorg-libxau-1.0.9    | 13 KB     | : 100% 1.0/1 [00:00<00:00, 35.78it/s]\n",
            "ninja-1.11.0         | 2.8 MB    | : 100% 1.0/1 [00:00<00:00,  2.59it/s]\n",
            "cudatoolkit-10.1.243 | 427.6 MB  | : 100% 1.0/1 [00:47<00:00, 47.54s/it]               \n",
            "llvm-openmp-14.0.4   | 5.8 MB    | : 100% 1.0/1 [00:00<00:00,  1.37it/s]\n",
            "liblapacke-3.9.0     | 12 KB     | : 100% 1.0/1 [00:00<00:00,  3.36it/s]\n",
            "blas-2.116           | 13 KB     | : 100% 1.0/1 [00:00<00:00,  3.20it/s]\n",
            "pthread-stubs-0.4    | 5 KB      | : 100% 1.0/1 [00:00<00:00,  3.32it/s]\n",
            "torchvision-0.7.0    | 11.0 MB   | : 100% 1.0/1 [00:03<00:00,  3.98s/it]\n",
            "pillow-9.2.0         | 45.0 MB   | : 100% 1.0/1 [00:04<00:00,  4.21s/it]               \n",
            "lerc-4.0.0           | 275 KB    | : 100% 1.0/1 [00:00<00:00, 13.41it/s]\n",
            "pytorch-1.6.0        | 515.9 MB  | : 100% 1.0/1 [01:04<00:00, 64.94s/it]              \n",
            "libpng-1.6.38        | 371 KB    | : 100% 1.0/1 [00:00<00:00, 12.43it/s]\n",
            "libcblas-3.9.0       | 12 KB     | : 100% 1.0/1 [00:00<00:00, 37.33it/s]\n",
            "lcms2-2.14           | 256 KB    | : 100% 1.0/1 [00:00<00:00, 17.86it/s]\n",
            "mkl-2022.1.0         | 199.6 MB  | : 100% 1.0/1 [00:29<00:00, 29.47s/it]               \n",
            "python_abi-3.7       | 6 KB      | : 100% 1.0/1 [00:00<00:00,  7.53it/s]\n",
            "blas-devel-3.9.0     | 12 KB     | : 100% 1.0/1 [00:00<00:00,  3.00it/s]\n",
            "tbb-2021.7.0         | 2.0 MB    | : 100% 1.0/1 [00:00<00:00,  3.46it/s]\n",
            "openjpeg-2.5.0       | 533 KB    | : 100% 1.0/1 [00:00<00:00, 10.55it/s]\n",
            "mkl-include-2022.1.0 | 745 KB    | : 100% 1.0/1 [00:00<00:00,  3.08it/s]\n",
            "freetype-2.12.1      | 884 KB    | : 100% 1.0/1 [00:00<00:00,  6.62it/s]\n",
            "_openmp_mutex-4.5    | 6 KB      | : 100% 1.0/1 [00:00<00:00, 42.36it/s]\n",
            "xorg-libxdmcp-1.1.3  | 19 KB     | : 100% 1.0/1 [00:00<00:00, 44.96it/s]\n",
            "liblapack-3.9.0      | 12 KB     | : 100% 1.0/1 [00:00<00:00,  3.24it/s]\n",
            "jpeg-9e              | 269 KB    | : 100% 1.0/1 [00:00<00:00, 14.87it/s]\n",
            "libxcb-1.13          | 391 KB    | : 100% 1.0/1 [00:00<00:00,  2.52it/s]                 \n",
            "mkl-devel-2022.1.0   | 25 KB     | : 100% 1.0/1 [00:00<00:00,  3.18it/s]               \n",
            "Preparing transaction: - \b\b\\ \b\bdone\n",
            "Verifying transaction: / \b\b- \b\b\\ \b\b| \b\b/ \b\b- \b\b\\ \b\bdone\n",
            "Executing transaction: / \b\b- \b\b\\ \b\b| \b\b/ \b\b- \b\b\\ \b\b| \b\b/ \b\b- \b\b\\ \b\b| \b\b/ \b\b- \b\b\\ \b\b| \b\b/ \b\b- \b\b\\ \b\b| \b\b/ \b\b- \b\b\\ \b\b| \b\b/ \b\b- \b\b\\ \b\b| \b\b/ \b\b- \b\b\\ \b\b| \b\b/ \b\b- \b\b\\ \b\b| \b\b/ \b\b- \b\b\\ By downloading and using the CUDA Toolkit conda packages, you accept the terms and conditions of the CUDA End User License Agreement (EULA): https://docs.nvidia.com/cuda/eula/index.html\n",
            "\n",
            "\b\b| \b\b/ \b\bdone\n",
            "Retrieving notices: ...working... done\n",
            "\u001b[33mWARNING: Skipping mmcv-full as it is not installed.\u001b[0m\u001b[33m\n",
            "\u001b[0m\u001b[33mWARNING: Running pip as the 'root' user can result in broken permissions and conflicting behaviour with the system package manager. It is recommended to use a virtual environment instead: https://pip.pypa.io/warnings/venv\u001b[0m\u001b[33m\n",
            "\u001b[0mLooking in indexes: https://pypi.org/simple, https://us-python.pkg.dev/colab-wheels/public/simple/\n",
            "Looking in links: https://download.openmmlab.com/mmcv/dist/cu101/torch1.6.0/index.html\n",
            "Collecting mmcv-full\n",
            "  Downloading https://download.openmmlab.com/mmcv/dist/cu101/torch1.6.0/mmcv_full-1.7.0-cp37-cp37m-manylinux1_x86_64.whl (43.1 MB)\n",
            "\u001b[2K     \u001b[90m━━━━━━━━━━━━━━━━━━━━━━━━━━━━━━━━━━━━━━━━\u001b[0m \u001b[32m43.1/43.1 MB\u001b[0m \u001b[31m18.8 MB/s\u001b[0m eta \u001b[36m0:00:00\u001b[0m\n",
            "\u001b[?25hCollecting packaging\n",
            "  Downloading packaging-21.3-py3-none-any.whl (40 kB)\n",
            "\u001b[2K     \u001b[90m━━━━━━━━━━━━━━━━━━━━━━━━━━━━━━━━━━━━━━━━\u001b[0m \u001b[32m40.8/40.8 kB\u001b[0m \u001b[31m5.0 MB/s\u001b[0m eta \u001b[36m0:00:00\u001b[0m\n",
            "\u001b[?25hCollecting opencv-python>=3\n",
            "  Downloading opencv_python-4.6.0.66-cp36-abi3-manylinux_2_17_x86_64.manylinux2014_x86_64.whl (60.9 MB)\n",
            "\u001b[2K     \u001b[90m━━━━━━━━━━━━━━━━━━━━━━━━━━━━━━━━━━━━━━━━\u001b[0m \u001b[32m60.9/60.9 MB\u001b[0m \u001b[31m9.6 MB/s\u001b[0m eta \u001b[36m0:00:00\u001b[0m\n",
            "\u001b[?25hCollecting addict\n",
            "  Downloading addict-2.4.0-py3-none-any.whl (3.8 kB)\n",
            "Collecting yapf\n",
            "  Downloading yapf-0.32.0-py2.py3-none-any.whl (190 kB)\n",
            "\u001b[2K     \u001b[90m━━━━━━━━━━━━━━━━━━━━━━━━━━━━━━━━━━━━━━\u001b[0m \u001b[32m190.2/190.2 kB\u001b[0m \u001b[31m24.5 MB/s\u001b[0m eta \u001b[36m0:00:00\u001b[0m\n",
            "\u001b[?25hRequirement already satisfied: numpy in /usr/local/lib/python3.7/site-packages (from mmcv-full) (1.21.6)\n",
            "Requirement already satisfied: Pillow in /usr/local/lib/python3.7/site-packages (from mmcv-full) (9.2.0)\n",
            "Collecting pyyaml\n",
            "  Downloading PyYAML-6.0-cp37-cp37m-manylinux_2_5_x86_64.manylinux1_x86_64.manylinux_2_12_x86_64.manylinux2010_x86_64.whl (596 kB)\n",
            "\u001b[2K     \u001b[90m━━━━━━━━━━━━━━━━━━━━━━━━━━━━━━━━━━━━━━\u001b[0m \u001b[32m596.3/596.3 kB\u001b[0m \u001b[31m46.6 MB/s\u001b[0m eta \u001b[36m0:00:00\u001b[0m\n",
            "\u001b[?25hCollecting pyparsing!=3.0.5,>=2.0.2\n",
            "  Downloading pyparsing-3.0.9-py3-none-any.whl (98 kB)\n",
            "\u001b[2K     \u001b[90m━━━━━━━━━━━━━━━━━━━━━━━━━━━━━━━━━━━━━━━━\u001b[0m \u001b[32m98.3/98.3 kB\u001b[0m \u001b[31m12.9 MB/s\u001b[0m eta \u001b[36m0:00:00\u001b[0m\n",
            "\u001b[?25hInstalling collected packages: yapf, addict, pyyaml, pyparsing, opencv-python, packaging, mmcv-full\n",
            "Successfully installed addict-2.4.0 mmcv-full-1.7.0 opencv-python-4.6.0.66 packaging-21.3 pyparsing-3.0.9 pyyaml-6.0 yapf-0.32.0\n",
            "\u001b[33mWARNING: Running pip as the 'root' user can result in broken permissions and conflicting behaviour with the system package manager. It is recommended to use a virtual environment instead: https://pip.pypa.io/warnings/venv\u001b[0m\u001b[33m\n",
            "\u001b[0m"
          ]
        },
        {
          "data": {
            "application/vnd.colab-display-data+json": {
              "pip_warning": {
                "packages": [
                  "cv2"
                ]
              }
            }
          },
          "metadata": {},
          "output_type": "display_data"
        },
        {
          "name": "stdout",
          "output_type": "stream",
          "text": [
            "Looking in indexes: https://pypi.org/simple, https://us-python.pkg.dev/colab-wheels/public/simple/\n",
            "Collecting mmsegmentation\n",
            "  Downloading mmsegmentation-0.29.1-py3-none-any.whl (828 kB)\n",
            "\u001b[2K     \u001b[90m━━━━━━━━━━━━━━━━━━━━━━━━━━━━━━━━━━━━━━\u001b[0m \u001b[32m828.7/828.7 kB\u001b[0m \u001b[31m45.7 MB/s\u001b[0m eta \u001b[36m0:00:00\u001b[0m\n",
            "\u001b[?25hCollecting matplotlib\n",
            "  Downloading matplotlib-3.5.3-cp37-cp37m-manylinux_2_5_x86_64.manylinux1_x86_64.whl (11.2 MB)\n",
            "\u001b[2K     \u001b[90m━━━━━━━━━━━━━━━━━━━━━━━━━━━━━━━━━━━━━━━\u001b[0m \u001b[32m11.2/11.2 MB\u001b[0m \u001b[31m105.9 MB/s\u001b[0m eta \u001b[36m0:00:00\u001b[0m\n",
            "\u001b[?25hRequirement already satisfied: packaging in /usr/local/lib/python3.7/site-packages (from mmsegmentation) (21.3)\n",
            "Collecting prettytable\n",
            "  Downloading prettytable-3.5.0-py3-none-any.whl (26 kB)\n",
            "Requirement already satisfied: numpy in /usr/local/lib/python3.7/site-packages (from mmsegmentation) (1.21.6)\n",
            "Collecting mmcls>=0.20.1\n",
            "  Downloading mmcls-0.24.1-py2.py3-none-any.whl (647 kB)\n",
            "\u001b[2K     \u001b[90m━━━━━━━━━━━━━━━━━━━━━━━━━━━━━━━━━━━━━━\u001b[0m \u001b[32m648.0/648.0 kB\u001b[0m \u001b[31m51.4 MB/s\u001b[0m eta \u001b[36m0:00:00\u001b[0m\n",
            "\u001b[?25hCollecting cycler>=0.10\n",
            "  Downloading cycler-0.11.0-py3-none-any.whl (6.4 kB)\n",
            "Collecting python-dateutil>=2.7\n",
            "  Downloading python_dateutil-2.8.2-py2.py3-none-any.whl (247 kB)\n",
            "\u001b[2K     \u001b[90m━━━━━━━━━━━━━━━━━━━━━━━━━━━━━━━━━━━━━━\u001b[0m \u001b[32m247.7/247.7 kB\u001b[0m \u001b[31m28.2 MB/s\u001b[0m eta \u001b[36m0:00:00\u001b[0m\n",
            "\u001b[?25hCollecting kiwisolver>=1.0.1\n",
            "  Downloading kiwisolver-1.4.4-cp37-cp37m-manylinux_2_5_x86_64.manylinux1_x86_64.whl (1.1 MB)\n",
            "\u001b[2K     \u001b[90m━━━━━━━━━━━━━━━━━━━━━━━━━━━━━━━━━━━━━━━━\u001b[0m \u001b[32m1.1/1.1 MB\u001b[0m \u001b[31m67.5 MB/s\u001b[0m eta \u001b[36m0:00:00\u001b[0m\n",
            "\u001b[?25hCollecting fonttools>=4.22.0\n",
            "  Downloading fonttools-4.38.0-py3-none-any.whl (965 kB)\n",
            "\u001b[2K     \u001b[90m━━━━━━━━━━━━━━━━━━━━━━━━━━━━━━━━━━━━━━\u001b[0m \u001b[32m965.4/965.4 kB\u001b[0m \u001b[31m62.4 MB/s\u001b[0m eta \u001b[36m0:00:00\u001b[0m\n",
            "\u001b[?25hRequirement already satisfied: pyparsing>=2.2.1 in /usr/local/lib/python3.7/site-packages (from matplotlib->mmsegmentation) (3.0.9)\n",
            "Requirement already satisfied: pillow>=6.2.0 in /usr/local/lib/python3.7/site-packages (from matplotlib->mmsegmentation) (9.2.0)\n",
            "Collecting wcwidth\n",
            "  Downloading wcwidth-0.2.5-py2.py3-none-any.whl (30 kB)\n",
            "Collecting importlib-metadata\n",
            "  Downloading importlib_metadata-5.1.0-py3-none-any.whl (21 kB)\n",
            "Collecting typing-extensions\n",
            "  Downloading typing_extensions-4.4.0-py3-none-any.whl (26 kB)\n",
            "Requirement already satisfied: six>=1.5 in /usr/local/lib/python3.7/site-packages (from python-dateutil>=2.7->matplotlib->mmsegmentation) (1.16.0)\n",
            "Collecting zipp>=0.5\n",
            "  Downloading zipp-3.10.0-py3-none-any.whl (6.2 kB)\n",
            "Installing collected packages: wcwidth, zipp, typing-extensions, python-dateutil, fonttools, cycler, kiwisolver, importlib-metadata, prettytable, matplotlib, mmcls, mmsegmentation\n",
            "Successfully installed cycler-0.11.0 fonttools-4.38.0 importlib-metadata-5.1.0 kiwisolver-1.4.4 matplotlib-3.5.3 mmcls-0.24.1 mmsegmentation-0.29.1 prettytable-3.5.0 python-dateutil-2.8.2 typing-extensions-4.4.0 wcwidth-0.2.5 zipp-3.10.0\n",
            "\u001b[33mWARNING: Running pip as the 'root' user can result in broken permissions and conflicting behaviour with the system package manager. It is recommended to use a virtual environment instead: https://pip.pypa.io/warnings/venv\u001b[0m\u001b[33m\n",
            "\u001b[0m"
          ]
        },
        {
          "data": {
            "application/vnd.colab-display-data+json": {
              "pip_warning": {
                "packages": [
                  "cycler",
                  "dateutil",
                  "kiwisolver",
                  "wcwidth"
                ]
              }
            }
          },
          "metadata": {},
          "output_type": "display_data"
        },
        {
          "name": "stdout",
          "output_type": "stream",
          "text": [
            "Looking in indexes: https://pypi.org/simple, https://us-python.pkg.dev/colab-wheels/public/simple/\n",
            "Collecting cityscapesscripts\n",
            "  Downloading cityscapesScripts-2.2.1-py3-none-any.whl (473 kB)\n",
            "\u001b[2K     \u001b[90m━━━━━━━━━━━━━━━━━━━━━━━━━━━━━━━━━━━━━━\u001b[0m \u001b[32m473.3/473.3 kB\u001b[0m \u001b[31m34.4 MB/s\u001b[0m eta \u001b[36m0:00:00\u001b[0m\n",
            "\u001b[?25hRequirement already satisfied: matplotlib in /usr/local/lib/python3.7/site-packages (from -r /content/FoodSeg103-Benchmark-v1/requirements/runtime.txt (line 1)) (3.5.3)\n",
            "Requirement already satisfied: numpy in /usr/local/lib/python3.7/site-packages (from -r /content/FoodSeg103-Benchmark-v1/requirements/runtime.txt (line 2)) (1.21.6)\n",
            "Collecting terminaltables\n",
            "  Downloading terminaltables-3.1.10-py2.py3-none-any.whl (15 kB)\n",
            "Collecting codecov\n",
            "  Downloading codecov-2.1.12-py2.py3-none-any.whl (16 kB)\n",
            "Collecting flake8\n",
            "  Downloading flake8-5.0.4-py2.py3-none-any.whl (61 kB)\n",
            "\u001b[2K     \u001b[90m━━━━━━━━━━━━━━━━━━━━━━━━━━━━━━━━━━━━━━━━\u001b[0m \u001b[32m61.9/61.9 kB\u001b[0m \u001b[31m8.6 MB/s\u001b[0m eta \u001b[36m0:00:00\u001b[0m\n",
            "\u001b[?25hCollecting interrogate\n",
            "  Downloading interrogate-1.5.0-py3-none-any.whl (45 kB)\n",
            "\u001b[2K     \u001b[90m━━━━━━━━━━━━━━━━━━━━━━━━━━━━━━━━━━━━━━━━\u001b[0m \u001b[32m45.3/45.3 kB\u001b[0m \u001b[31m6.1 MB/s\u001b[0m eta \u001b[36m0:00:00\u001b[0m\n",
            "\u001b[?25hCollecting isort==4.3.21\n",
            "  Downloading isort-4.3.21-py2.py3-none-any.whl (42 kB)\n",
            "\u001b[2K     \u001b[90m━━━━━━━━━━━━━━━━━━━━━━━━━━━━━━━━━━━━━━━━\u001b[0m \u001b[32m42.3/42.3 kB\u001b[0m \u001b[31m5.8 MB/s\u001b[0m eta \u001b[36m0:00:00\u001b[0m\n",
            "\u001b[?25hCollecting pytest\n",
            "  Downloading pytest-7.2.0-py3-none-any.whl (316 kB)\n",
            "\u001b[2K     \u001b[90m━━━━━━━━━━━━━━━━━━━━━━━━━━━━━━━━━━━━━━\u001b[0m \u001b[32m316.8/316.8 kB\u001b[0m \u001b[31m35.0 MB/s\u001b[0m eta \u001b[36m0:00:00\u001b[0m\n",
            "\u001b[?25hCollecting xdoctest>=0.10.0\n",
            "  Downloading xdoctest-1.1.0-py3-none-any.whl (135 kB)\n",
            "\u001b[2K     \u001b[90m━━━━━━━━━━━━━━━━━━━━━━━━━━━━━━━━━━━━━━\u001b[0m \u001b[32m135.8/135.8 kB\u001b[0m \u001b[31m18.4 MB/s\u001b[0m eta \u001b[36m0:00:00\u001b[0m\n",
            "\u001b[?25hRequirement already satisfied: yapf in /usr/local/lib/python3.7/site-packages (from -r /content/FoodSeg103-Benchmark-v1/requirements/tests.txt (line 7)) (0.32.0)\n",
            "Collecting pyquaternion\n",
            "  Downloading pyquaternion-0.9.9-py3-none-any.whl (14 kB)\n",
            "Requirement already satisfied: tqdm in /usr/local/lib/python3.7/site-packages (from cityscapesscripts->-r /content/FoodSeg103-Benchmark-v1/requirements/optional.txt (line 1)) (4.64.0)\n",
            "Collecting typing\n",
            "  Downloading typing-3.7.4.3.tar.gz (78 kB)\n",
            "\u001b[2K     \u001b[90m━━━━━━━━━━━━━━━━━━━━━━━━━━━━━━━━━━━━━━━━\u001b[0m \u001b[32m78.6/78.6 kB\u001b[0m \u001b[31m10.9 MB/s\u001b[0m eta \u001b[36m0:00:00\u001b[0m\n",
            "\u001b[?25h  Preparing metadata (setup.py) ... \u001b[?25l\u001b[?25hdone\n",
            "Collecting coloredlogs\n",
            "  Downloading coloredlogs-15.0.1-py2.py3-none-any.whl (46 kB)\n",
            "\u001b[2K     \u001b[90m━━━━━━━━━━━━━━━━━━━━━━━━━━━━━━━━━━━━━━━━\u001b[0m \u001b[32m46.0/46.0 kB\u001b[0m \u001b[31m5.5 MB/s\u001b[0m eta \u001b[36m0:00:00\u001b[0m\n",
            "\u001b[?25hCollecting appdirs\n",
            "  Downloading appdirs-1.4.4-py2.py3-none-any.whl (9.6 kB)\n",
            "Requirement already satisfied: pillow in /usr/local/lib/python3.7/site-packages (from cityscapesscripts->-r /content/FoodSeg103-Benchmark-v1/requirements/optional.txt (line 1)) (9.2.0)\n",
            "Requirement already satisfied: fonttools>=4.22.0 in /usr/local/lib/python3.7/site-packages (from matplotlib->-r /content/FoodSeg103-Benchmark-v1/requirements/runtime.txt (line 1)) (4.38.0)\n",
            "Requirement already satisfied: packaging>=20.0 in /usr/local/lib/python3.7/site-packages (from matplotlib->-r /content/FoodSeg103-Benchmark-v1/requirements/runtime.txt (line 1)) (21.3)\n",
            "Requirement already satisfied: pyparsing>=2.2.1 in /usr/local/lib/python3.7/site-packages (from matplotlib->-r /content/FoodSeg103-Benchmark-v1/requirements/runtime.txt (line 1)) (3.0.9)\n",
            "Requirement already satisfied: python-dateutil>=2.7 in /usr/local/lib/python3.7/site-packages (from matplotlib->-r /content/FoodSeg103-Benchmark-v1/requirements/runtime.txt (line 1)) (2.8.2)\n",
            "Requirement already satisfied: cycler>=0.10 in /usr/local/lib/python3.7/site-packages (from matplotlib->-r /content/FoodSeg103-Benchmark-v1/requirements/runtime.txt (line 1)) (0.11.0)\n",
            "Requirement already satisfied: kiwisolver>=1.0.1 in /usr/local/lib/python3.7/site-packages (from matplotlib->-r /content/FoodSeg103-Benchmark-v1/requirements/runtime.txt (line 1)) (1.4.4)\n",
            "Requirement already satisfied: requests>=2.7.9 in /usr/local/lib/python3.7/site-packages (from codecov->-r /content/FoodSeg103-Benchmark-v1/requirements/tests.txt (line 1)) (2.28.1)\n",
            "Collecting coverage\n",
            "  Downloading coverage-6.5.0-cp37-cp37m-manylinux_2_5_x86_64.manylinux1_x86_64.manylinux_2_17_x86_64.manylinux2014_x86_64.whl (210 kB)\n",
            "\u001b[2K     \u001b[90m━━━━━━━━━━━━━━━━━━━━━━━━━━━━━━━━━━━━━━\u001b[0m \u001b[32m210.1/210.1 kB\u001b[0m \u001b[31m25.7 MB/s\u001b[0m eta \u001b[36m0:00:00\u001b[0m\n",
            "\u001b[?25hCollecting pycodestyle<2.10.0,>=2.9.0\n",
            "  Downloading pycodestyle-2.9.1-py2.py3-none-any.whl (41 kB)\n",
            "\u001b[2K     \u001b[90m━━━━━━━━━━━━━━━━━━━━━━━━━━━━━━━━━━━━━━━━\u001b[0m \u001b[32m41.5/41.5 kB\u001b[0m \u001b[31m3.8 MB/s\u001b[0m eta \u001b[36m0:00:00\u001b[0m\n",
            "\u001b[?25hCollecting importlib-metadata<4.3,>=1.1.0\n",
            "  Downloading importlib_metadata-4.2.0-py3-none-any.whl (16 kB)\n",
            "Collecting pyflakes<2.6.0,>=2.5.0\n",
            "  Downloading pyflakes-2.5.0-py2.py3-none-any.whl (66 kB)\n",
            "\u001b[2K     \u001b[90m━━━━━━━━━━━━━━━━━━━━━━━━━━━━━━━━━━━━━━━━\u001b[0m \u001b[32m66.1/66.1 kB\u001b[0m \u001b[31m8.8 MB/s\u001b[0m eta \u001b[36m0:00:00\u001b[0m\n",
            "\u001b[?25hCollecting mccabe<0.8.0,>=0.7.0\n",
            "  Downloading mccabe-0.7.0-py2.py3-none-any.whl (7.3 kB)\n",
            "Collecting attrs\n",
            "  Downloading attrs-22.1.0-py2.py3-none-any.whl (58 kB)\n",
            "\u001b[2K     \u001b[90m━━━━━━━━━━━━━━━━━━━━━━━━━━━━━━━━━━━━━━━━\u001b[0m \u001b[32m58.8/58.8 kB\u001b[0m \u001b[31m7.8 MB/s\u001b[0m eta \u001b[36m0:00:00\u001b[0m\n",
            "\u001b[?25hCollecting click>=7.1\n",
            "  Downloading click-8.1.3-py3-none-any.whl (96 kB)\n",
            "\u001b[2K     \u001b[90m━━━━━━━━━━━━━━━━━━━━━━━━━━━━━━━━━━━━━━━━\u001b[0m \u001b[32m96.6/96.6 kB\u001b[0m \u001b[31m13.3 MB/s\u001b[0m eta \u001b[36m0:00:00\u001b[0m\n",
            "\u001b[?25hCollecting py\n",
            "  Downloading py-1.11.0-py2.py3-none-any.whl (98 kB)\n",
            "\u001b[2K     \u001b[90m━━━━━━━━━━━━━━━━━━━━━━━━━━━━━━━━━━━━━━━━\u001b[0m \u001b[32m98.7/98.7 kB\u001b[0m \u001b[31m13.4 MB/s\u001b[0m eta \u001b[36m0:00:00\u001b[0m\n",
            "\u001b[?25hCollecting tabulate\n",
            "  Downloading tabulate-0.9.0-py3-none-any.whl (35 kB)\n",
            "Collecting toml\n",
            "  Downloading toml-0.10.2-py2.py3-none-any.whl (16 kB)\n",
            "Requirement already satisfied: colorama in /usr/local/lib/python3.7/site-packages (from interrogate->-r /content/FoodSeg103-Benchmark-v1/requirements/tests.txt (line 3)) (0.4.5)\n",
            "Collecting iniconfig\n",
            "  Downloading iniconfig-1.1.1-py2.py3-none-any.whl (5.0 kB)\n",
            "Collecting pluggy<2.0,>=0.12\n",
            "  Downloading pluggy-1.0.0-py2.py3-none-any.whl (13 kB)\n",
            "Collecting tomli>=1.0.0\n",
            "  Downloading tomli-2.0.1-py3-none-any.whl (12 kB)\n",
            "Collecting exceptiongroup>=1.0.0rc8\n",
            "  Downloading exceptiongroup-1.0.4-py3-none-any.whl (14 kB)\n",
            "Requirement already satisfied: six in /usr/local/lib/python3.7/site-packages (from xdoctest>=0.10.0->-r /content/FoodSeg103-Benchmark-v1/requirements/tests.txt (line 6)) (1.16.0)\n",
            "Requirement already satisfied: zipp>=0.5 in /usr/local/lib/python3.7/site-packages (from importlib-metadata<4.3,>=1.1.0->flake8->-r /content/FoodSeg103-Benchmark-v1/requirements/tests.txt (line 2)) (3.10.0)\n",
            "Requirement already satisfied: typing-extensions>=3.6.4 in /usr/local/lib/python3.7/site-packages (from importlib-metadata<4.3,>=1.1.0->flake8->-r /content/FoodSeg103-Benchmark-v1/requirements/tests.txt (line 2)) (4.4.0)\n",
            "Requirement already satisfied: idna<4,>=2.5 in /usr/local/lib/python3.7/site-packages (from requests>=2.7.9->codecov->-r /content/FoodSeg103-Benchmark-v1/requirements/tests.txt (line 1)) (3.3)\n",
            "Requirement already satisfied: urllib3<1.27,>=1.21.1 in /usr/local/lib/python3.7/site-packages (from requests>=2.7.9->codecov->-r /content/FoodSeg103-Benchmark-v1/requirements/tests.txt (line 1)) (1.26.11)\n",
            "Requirement already satisfied: charset-normalizer<3,>=2 in /usr/local/lib/python3.7/site-packages (from requests>=2.7.9->codecov->-r /content/FoodSeg103-Benchmark-v1/requirements/tests.txt (line 1)) (2.1.1)\n",
            "Requirement already satisfied: certifi>=2017.4.17 in /usr/local/lib/python3.7/site-packages (from requests>=2.7.9->codecov->-r /content/FoodSeg103-Benchmark-v1/requirements/tests.txt (line 1)) (2022.9.24)\n",
            "Collecting humanfriendly>=9.1\n",
            "  Downloading humanfriendly-10.0-py2.py3-none-any.whl (86 kB)\n",
            "\u001b[2K     \u001b[90m━━━━━━━━━━━━━━━━━━━━━━━━━━━━━━━━━━━━━━━━\u001b[0m \u001b[32m86.8/86.8 kB\u001b[0m \u001b[31m11.5 MB/s\u001b[0m eta \u001b[36m0:00:00\u001b[0m\n",
            "\u001b[?25hBuilding wheels for collected packages: typing\n",
            "  Building wheel for typing (setup.py) ... \u001b[?25l\u001b[?25hdone\n",
            "  Created wheel for typing: filename=typing-3.7.4.3-py3-none-any.whl size=26306 sha256=a053a7130e321c3436860cc6696fc27e2cd65566f570116e1a6684e54218835b\n",
            "  Stored in directory: /root/.cache/pip/wheels/35/f3/15/01aa6571f0a72ee6ae7b827c1491c37a1f72d686fd22b43b0e\n",
            "Successfully built typing\n",
            "Installing collected packages: iniconfig, appdirs, xdoctest, typing, tomli, toml, terminaltables, tabulate, pyquaternion, pyflakes, pycodestyle, py, mccabe, isort, importlib-metadata, humanfriendly, exceptiongroup, coverage, attrs, pluggy, flake8, coloredlogs, codecov, click, pytest, interrogate, cityscapesscripts\n",
            "  Attempting uninstall: importlib-metadata\n",
            "    Found existing installation: importlib-metadata 5.1.0\n",
            "    Uninstalling importlib-metadata-5.1.0:\n",
            "      Successfully uninstalled importlib-metadata-5.1.0\n",
            "Successfully installed appdirs-1.4.4 attrs-22.1.0 cityscapesscripts-2.2.1 click-8.1.3 codecov-2.1.12 coloredlogs-15.0.1 coverage-6.5.0 exceptiongroup-1.0.4 flake8-5.0.4 humanfriendly-10.0 importlib-metadata-4.2.0 iniconfig-1.1.1 interrogate-1.5.0 isort-4.3.21 mccabe-0.7.0 pluggy-1.0.0 py-1.11.0 pycodestyle-2.9.1 pyflakes-2.5.0 pyquaternion-0.9.9 pytest-7.2.0 tabulate-0.9.0 terminaltables-3.1.10 toml-0.10.2 tomli-2.0.1 typing-3.7.4.3 xdoctest-1.1.0\n",
            "\u001b[33mWARNING: Running pip as the 'root' user can result in broken permissions and conflicting behaviour with the system package manager. It is recommended to use a virtual environment instead: https://pip.pypa.io/warnings/venv\u001b[0m\u001b[33m\n",
            "\u001b[0m"
          ]
        }
      ],
      "source": [
        "!mamba install -q openmm\n",
        "!conda create -n open-mmlab python=3.7 -y\n",
        "!conda activate open-mmlab\n",
        "\n",
        "!conda install pytorch=1.6.0 torchvision cudatoolkit=10.1 -c pytorch\n",
        "\n",
        "!pip uninstall mmcv-full\n",
        "!pip install mmcv-full -f https://download.openmmlab.com/mmcv/dist/cu101/torch1.6.0/index.html\n",
        "\n",
        "!pip install mmsegmentation # install the latest release\n",
        "\n",
        "!pip install -r /content/FoodSeg103-Benchmark-v1/requirements.txt"
      ]
    },
    {
      "cell_type": "code",
      "execution_count": null,
      "metadata": {
        "id": "gf0rrom-4WdG"
      },
      "outputs": [],
      "source": [
        "import pandas as pd\n",
        "df = pd.read_csv('/content/AIDiet_data/category_id.txt', sep = ',', names=[ 'name', 'shape'], index_col=0)"
      ]
    },
    {
      "cell_type": "markdown",
      "metadata": {
        "id": "_nWSlS9X8KBt"
      },
      "source": [
        "# Segmentation REsult"
      ]
    },
    {
      "cell_type": "code",
      "execution_count": null,
      "metadata": {
        "id": "O3wMCJrq2MrZ"
      },
      "outputs": [],
      "source": [
        "from mmseg.apis import init_segmentor, inference_segmentor, show_result_pyplot\n",
        "from mmseg.core.evaluation import get_palette\n",
        "\n",
        "import numpy as np\n",
        "def show_result(model, img, result):\n",
        "  import mmcv\n",
        "  from google.colab.patches import cv2_imshow\n",
        "  \n",
        "  palette=None\n",
        "  win_name=''\n",
        "  show=False\n",
        "  wait_time=0\n",
        "  out_file=None\n",
        "\n",
        "  img = mmcv.imread(img)\n",
        "  img = img.copy()\n",
        "  seg = result[0]\n",
        "  if palette is None:\n",
        "      if model.PALETTE is None:\n",
        "          palette = np.random.randint(\n",
        "              0, 255, size=(len(model.CLASSES), 3))\n",
        "      else:\n",
        "          palette = model.PALETTE\n",
        "  palette = np.array(palette)\n",
        "  assert palette.shape[0] == len(model.CLASSES)\n",
        "  assert palette.shape[1] == 3\n",
        "  assert len(palette.shape) == 2\n",
        "  color_seg = np.zeros((seg.shape[0], seg.shape[1], 3), dtype=np.uint8)\n",
        "  results = []\n",
        "  for label, color in enumerate(palette):\n",
        "      # Check seg labels!!\n",
        "      if(len(color_seg[seg == label, :]) > 0):\n",
        "        name = df.iloc[label]['name']\n",
        "        if name in ('background','other ingredients'): \n",
        "          continue\n",
        "        portion = len(color_seg[seg == label, :])\n",
        "        results.append([name, portion, color])\n",
        "      color_seg[seg == label, :] = color\n",
        "  # convert to BGR\n",
        "  color_seg = color_seg[..., ::-1]\n",
        "\n",
        "  img = img * 0.5 + color_seg * 0.5\n",
        "  img = img.astype(np.uint8)\n",
        "  # if out_file specified, do not show image in window\n",
        "  if out_file is not None:\n",
        "      show = False\n",
        "\n",
        "  if show:\n",
        "      cv2_imshow(img, win_name, wait_time)\n",
        "  if out_file is not None: ##Image Save-----------------------------------------------------------------\n",
        "      mmcv.imwrite(img, out_file)\n",
        "\n",
        "  if not (show or out_file):\n",
        "      print('show==False and out_file is not specified, only '\n",
        "                    'result image will be returned')\n",
        "  return results\n",
        "      \n",
        "def softmax(x):\n",
        "  return x /sum(x)\n",
        "\n",
        "import json\n",
        "import requests\n",
        "\n",
        "def get_caloies(name, volume):\n",
        "  query = f'{volume}g {name}'\n",
        "  api_url = f'https://api.api-ninjas.com/v1/nutrition?query={query}'\n",
        "  print(query)\n",
        "  response = requests.get(api_url, headers={'X-Api-Key': 'uF82Rnp+3IHaDuVRJ157GA==We7LxVlYDzefzxtx'})\n",
        "  if response.status_code == requests.codes.ok:\n",
        "      api = json.loads(response.content)\n",
        "      if len(api) != 0:\n",
        "        #calories= api[0]['calories']\n",
        "        return api\n",
        "  else:\n",
        "      print(\"Error:\", response.status_code, response.text)\n",
        "  ##if ingredient doesn't exist in API\n",
        "  print(f'not passed {query}')\n",
        "  return 0\n"
      ]
    },
    {
      "cell_type": "code",
      "execution_count": null,
      "metadata": {
        "id": "1VBuj7mE4wRR"
      },
      "outputs": [],
      "source": [
        "import sys, os\n",
        "sys.path.insert(1, '/content/darknet/python/')\n",
        "import darknet as dn\n",
        "import pdb\n",
        "import json\n",
        "\n",
        "from flask import Flask, request\n",
        "from flask_ngrok import run_with_ngrok\n",
        "app = Flask(__name__)\n",
        "\n",
        "import time\n",
        "import json\n",
        "\n",
        "\n",
        "@app.route('/calories', methods=['POST'])\n",
        "def calories():\n",
        "  image = request.files['image']\n",
        "  image.save(image.filename)\n",
        "  start_time = time.time()\n",
        "\n",
        "  config_file = '/content/AIDiet_data/checkpoints/CCNet_ReLeM/ccnet_r50-d8_512x1024_80k.py'\n",
        "  checkpoint_file = '/content/AIDiet_data/checkpoints/CCNet_ReLeM/iter_80000.pth'\n",
        "  model = init_segmentor(config_file, checkpoint_file, device='cuda:0')\n",
        "\n",
        "  #file_name = '/content/AIDiet_data/hamburger.jpg'\n",
        "  file_name = f'/content/{image.filename}'\n",
        "  result = inference_segmentor(model, file_name)\n",
        "  ing_results = show_result(model, file_name, result)\n",
        "  ing_results.sort(key=lambda x:x[1], reverse=True)\n",
        "\n",
        "  # Normalization\n",
        "  ratios = np.array([int(f[1]) for f in ing_results])\n",
        "  ratios = softmax(ratios)\n",
        "\n",
        "  # Calculate and Summation\n",
        "  calories_list = []\n",
        "  carbohydrates_list = []\n",
        "  cholesterol_list = []\n",
        "  fat_saturated_list = []\n",
        "  fat_total_list = []\n",
        "  fiber_list = []\n",
        "  potassium_list = []\n",
        "  protein_list = []\n",
        "  sodium_list = []\n",
        "  sugar_list = []\n",
        "  volume_list = []\n",
        "  VOLUME = 250 #-------------------------------------------------list에서 가져올까?\n",
        "  for i, food in enumerate(ing_results):\n",
        "    volume = int(ratios[i]*VOLUME)\n",
        "    volume_list.append(volume)\n",
        "    result = get_caloies(name=food[0], volume=volume)\n",
        "    if isinstance(result, int): \n",
        "      print(f'CHECK : {food}')\n",
        "      continue\n",
        "    api = result[0]\n",
        "    calories_list.append(api['calories'])\n",
        "    carbohydrates_list.append(api['carbohydrates_total_g'])\n",
        "    cholesterol_list.append(api['cholesterol_mg'])\n",
        "    fat_saturated_list.append(api['fat_saturated_g'])\n",
        "    fat_total_list.append(api['fat_total_g'])\n",
        "    fiber_list.append(api['fiber_g'])\n",
        "    potassium_list.append(api['potassium_mg'])\n",
        "    protein_list.append(api['protein_g'])\n",
        "    sodium_list.append(api['sodium_mg'])\n",
        "    sugar_list.append(api['sugar_g'])\n",
        "\n",
        "  response = {}\n",
        "  items = []\n",
        "  #response['result'] = result\n",
        "  for i in range(len(ing_results)):\n",
        "    item = {}\n",
        "    item['ingredient'] = ing_results[i][0]\n",
        "    item['ratio'] = round(ratios[i], 2)\n",
        "    item['volume'] = volume_list[i]\n",
        "    item['calories'] = calories_list[i]\n",
        "    items.append(item)\n",
        "  response['items'] = items\n",
        "  response['serving_size_g'] = int(VOLUME)\n",
        "  response['calories'] = int(sum(calories_list))\n",
        "  response['carbohydrates_total_g'] = int(sum(carbohydrates_list))\n",
        "  response['cholesterol_mg'] = int(sum(cholesterol_list))\n",
        "  response['fat_saturated_g'] = int(sum(fat_saturated_list))\n",
        "  response['fat_total_g'] = int(sum(fat_total_list))\n",
        "  response['fiber_g'] = int(sum(fiber_list))\n",
        "  response['potassium_mg'] = int(sum(potassium_list))\n",
        "  response['protein_g'] = int(sum(protein_list))\n",
        "  response['sodium_mg'] = int(sum(sodium_list))\n",
        "  response['sugar_g'] = int(sum(sugar_list))\n",
        "\n",
        "  print(response)\n",
        "  return json.dumps(response)"
      ]
    },
    {
      "cell_type": "markdown",
      "metadata": {
        "id": "hX6Au9kQmIRF"
      },
      "source": [
        "# API"
      ]
    },
    {
      "cell_type": "code",
      "execution_count": null,
      "metadata": {
        "colab": {
          "base_uri": "https://localhost:8080/"
        },
        "id": "JGtf1RFaErU-",
        "outputId": "7b02cb43-013f-4dde-96ff-bf5cff0d1af8"
      },
      "outputs": [
        {
          "name": "stdout",
          "output_type": "stream",
          "text": [
            " * Serving Flask app \"__main__\" (lazy loading)\n",
            " * Environment: production\n",
            "\u001b[31m   WARNING: This is a development server. Do not use it in a production deployment.\u001b[0m\n",
            "\u001b[2m   Use a production WSGI server instead.\u001b[0m\n",
            " * Debug mode: off\n"
          ]
        },
        {
          "name": "stderr",
          "output_type": "stream",
          "text": [
            " * Running on http://127.0.0.1:5000/ (Press CTRL+C to quit)\n"
          ]
        },
        {
          "name": "stdout",
          "output_type": "stream",
          "text": [
            " * Running on http://a23a-34-80-148-202.ngrok.io\n",
            " * Traffic stats available on http://127.0.0.1:4040\n"
          ]
        },
        {
          "name": "stderr",
          "output_type": "stream",
          "text": [
            "127.0.0.1 - - [11/Nov/2022 20:00:27] \"\u001b[33mGET / HTTP/1.1\u001b[0m\" 404 -\n",
            "127.0.0.1 - - [11/Nov/2022 20:00:27] \"\u001b[33mGET /favicon.ico HTTP/1.1\u001b[0m\" 404 -\n",
            "/usr/local/lib/python3.7/site-packages/mmseg/models/losses/cross_entropy_loss.py:236: UserWarning: Default ``avg_non_ignore`` is False, if you would like to ignore the certain label and average loss over non-ignore labels, which is the same with PyTorch official cross_entropy, set ``avg_non_ignore=True``.\n",
            "  'Default ``avg_non_ignore`` is False, if you would like to '\n"
          ]
        },
        {
          "name": "stdout",
          "output_type": "stream",
          "text": [
            "load checkpoint from local path: /content/AIDiet_data/checkpoints/CCNet_ReLeM/iter_80000.pth\n",
            "show==False and out_file is not specified, only result image will be returned\n",
            "88g lettuce\n",
            "79g bread\n",
            "28g steak\n",
            "20g tomato\n",
            "18g onion\n",
            "6g cheese butter\n",
            "3g sauce\n",
            "3g pepper\n"
          ]
        },
        {
          "name": "stderr",
          "output_type": "stream",
          "text": [
            "127.0.0.1 - - [11/Nov/2022 20:00:47] \"\u001b[37mPOST /calories HTTP/1.1\u001b[0m\" 200 -\n"
          ]
        },
        {
          "name": "stdout",
          "output_type": "stream",
          "text": [
            "{'items': [{'ingredient': 'lettuce', 'ratio': 0.35, 'volume': 88, 'calories': 15.0}, {'ingredient': 'bread', 'ratio': 0.32, 'volume': 79, 'calories': 206.7}, {'ingredient': 'steak', 'ratio': 0.11, 'volume': 28, 'calories': 76.6}, {'ingredient': 'tomato', 'ratio': 0.08, 'volume': 20, 'calories': 3.6}, {'ingredient': 'onion', 'ratio': 0.07, 'volume': 18, 'calories': 8.0}, {'ingredient': 'cheese butter', 'ratio': 0.03, 'volume': 6, 'calories': 23.6}, {'ingredient': 'sauce', 'ratio': 0.02, 'volume': 3, 'calories': 1.5}, {'ingredient': 'pepper', 'ratio': 0.01, 'volume': 3, 'calories': 7.5}], 'serving_size_g': 250, 'calories': 342, 'carbohydrates_total_g': 47, 'cholesterol_mg': 32, 'fat_saturated_g': 3, 'fat_total_g': 10, 'fiber_g': 5, 'potassium_mg': 199, 'protein_g': 17, 'sodium_mg': 463, 'sugar_g': 6}\n",
            "load checkpoint from local path: /content/AIDiet_data/checkpoints/CCNet_ReLeM/iter_80000.pth\n",
            "show==False and out_file is not specified, only result image will be returned\n",
            "103g bread\n",
            "69g lettuce\n",
            "25g steak\n",
            "20g onion\n",
            "12g tomato\n",
            "10g cheese butter\n",
            "3g pork\n",
            "3g chicken duck\n",
            "2g sausage\n",
            "0g sauce\n"
          ]
        },
        {
          "name": "stderr",
          "output_type": "stream",
          "text": [
            "127.0.0.1 - - [11/Nov/2022 20:02:38] \"\u001b[37mPOST /calories HTTP/1.1\u001b[0m\" 200 -\n"
          ]
        },
        {
          "name": "stdout",
          "output_type": "stream",
          "text": [
            "{'items': [{'ingredient': 'bread', 'ratio': 0.41, 'volume': 103, 'calories': 269.4}, {'ingredient': 'lettuce', 'ratio': 0.28, 'volume': 69, 'calories': 11.7}, {'ingredient': 'steak', 'ratio': 0.1, 'volume': 25, 'calories': 68.4}, {'ingredient': 'onion', 'ratio': 0.08, 'volume': 20, 'calories': 8.9}, {'ingredient': 'tomato', 'ratio': 0.05, 'volume': 12, 'calories': 2.2}, {'ingredient': 'cheese butter', 'ratio': 0.04, 'volume': 10, 'calories': 39.4}, {'ingredient': 'pork', 'ratio': 0.01, 'volume': 3, 'calories': 7.1}, {'ingredient': 'chicken duck', 'ratio': 0.01, 'volume': 3, 'calories': 6.7}, {'ingredient': 'sausage', 'ratio': 0.01, 'volume': 2, 'calories': 6.4}, {'ingredient': 'sauce', 'ratio': 0.0, 'volume': 0, 'calories': 0.5}], 'serving_size_g': 250, 'calories': 420, 'carbohydrates_total_g': 56, 'cholesterol_mg': 38, 'fat_saturated_g': 4, 'fat_total_g': 13, 'fiber_g': 4, 'potassium_mg': 237, 'protein_g': 21, 'sodium_mg': 617, 'sugar_g': 7}\n",
            "load checkpoint from local path: /content/AIDiet_data/checkpoints/CCNet_ReLeM/iter_80000.pth\n",
            "show==False and out_file is not specified, only result image will be returned\n",
            "98g bread\n",
            "69g lettuce\n",
            "50g steak\n",
            "20g onion\n",
            "6g tomato\n",
            "5g cucumber\n",
            "0g cheese butter\n"
          ]
        },
        {
          "name": "stderr",
          "output_type": "stream",
          "text": [
            "127.0.0.1 - - [11/Nov/2022 20:03:56] \"\u001b[37mPOST /calories HTTP/1.1\u001b[0m\" 200 -\n"
          ]
        },
        {
          "name": "stdout",
          "output_type": "stream",
          "text": [
            "{'items': [{'ingredient': 'bread', 'ratio': 0.39, 'volume': 98, 'calories': 256.4}, {'ingredient': 'lettuce', 'ratio': 0.28, 'volume': 69, 'calories': 11.7}, {'ingredient': 'steak', 'ratio': 0.2, 'volume': 50, 'calories': 136.7}, {'ingredient': 'onion', 'ratio': 0.08, 'volume': 20, 'calories': 8.9}, {'ingredient': 'tomato', 'ratio': 0.03, 'volume': 6, 'calories': 1.1}, {'ingredient': 'cucumber', 'ratio': 0.02, 'volume': 5, 'calories': 0.8}, {'ingredient': 'cheese butter', 'ratio': 0.0, 'volume': 0, 'calories': 3.9}], 'serving_size_g': 250, 'calories': 419, 'carbohydrates_total_g': 53, 'cholesterol_mg': 48, 'fat_saturated_g': 4, 'fat_total_g': 13, 'fiber_g': 4, 'potassium_mg': 227, 'protein_g': 23, 'sodium_mg': 522, 'sugar_g': 7}\n",
            "load checkpoint from local path: /content/AIDiet_data/checkpoints/CCNet_ReLeM/iter_80000.pth\n",
            "show==False and out_file is not specified, only result image will be returned\n",
            "83g lettuce\n",
            "77g bread\n",
            "37g steak\n",
            "31g onion\n",
            "7g tomato\n",
            "7g cheese butter\n",
            "4g french fries\n",
            "0g bean sprouts\n",
            "0g carrot\n"
          ]
        },
        {
          "name": "stderr",
          "output_type": "stream",
          "text": [
            "127.0.0.1 - - [11/Nov/2022 20:07:45] \"\u001b[37mPOST /calories HTTP/1.1\u001b[0m\" 200 -\n"
          ]
        },
        {
          "name": "stdout",
          "output_type": "stream",
          "text": [
            "{'items': [{'ingredient': 'lettuce', 'ratio': 0.34, 'volume': 83, 'calories': 14.1}, {'ingredient': 'bread', 'ratio': 0.31, 'volume': 77, 'calories': 201.4}, {'ingredient': 'steak', 'ratio': 0.15, 'volume': 37, 'calories': 101.2}, {'ingredient': 'onion', 'ratio': 0.12, 'volume': 31, 'calories': 13.9}, {'ingredient': 'tomato', 'ratio': 0.03, 'volume': 7, 'calories': 1.3}, {'ingredient': 'cheese butter', 'ratio': 0.03, 'volume': 7, 'calories': 27.6}, {'ingredient': 'french fries', 'ratio': 0.02, 'volume': 4, 'calories': 12.5}, {'ingredient': 'bean sprouts', 'ratio': 0.0, 'volume': 0, 'calories': 0.2}, {'ingredient': 'carrot', 'ratio': 0.0, 'volume': 0, 'calories': 0.3}], 'serving_size_g': 250, 'calories': 372, 'carbohydrates_total_g': 46, 'cholesterol_mg': 42, 'fat_saturated_g': 4, 'fat_total_g': 12, 'fiber_g': 4, 'potassium_mg': 218, 'protein_g': 19, 'sodium_mg': 460, 'sugar_g': 7}\n",
            "load checkpoint from local path: /content/AIDiet_data/checkpoints/CCNet_ReLeM/iter_80000.pth\n",
            "show==False and out_file is not specified, only result image will be returned\n",
            "113g bread\n",
            "78g lettuce\n",
            "26g steak\n",
            "24g cheese butter\n",
            "5g onion\n",
            "0g sauce\n",
            "0g tomato\n"
          ]
        },
        {
          "name": "stderr",
          "output_type": "stream",
          "text": [
            "127.0.0.1 - - [11/Nov/2022 20:10:57] \"\u001b[37mPOST /calories HTTP/1.1\u001b[0m\" 200 -\n"
          ]
        },
        {
          "name": "stdout",
          "output_type": "stream",
          "text": [
            "{'items': [{'ingredient': 'bread', 'ratio': 0.45, 'volume': 113, 'calories': 295.6}, {'ingredient': 'lettuce', 'ratio': 0.32, 'volume': 78, 'calories': 13.3}, {'ingredient': 'steak', 'ratio': 0.1, 'volume': 26, 'calories': 71.1}, {'ingredient': 'cheese butter', 'ratio': 0.1, 'volume': 24, 'calories': 94.5}, {'ingredient': 'onion', 'ratio': 0.02, 'volume': 5, 'calories': 2.2}, {'ingredient': 'sauce', 'ratio': 0.0, 'volume': 0, 'calories': 0.5}, {'ingredient': 'tomato', 'ratio': 0.0, 'volume': 0, 'calories': 0.2}], 'serving_size_g': 250, 'calories': 477, 'carbohydrates_total_g': 60, 'cholesterol_mg': 48, 'fat_saturated_g': 7, 'fat_total_g': 16, 'fiber_g': 4, 'potassium_mg': 294, 'protein_g': 23, 'sodium_mg': 740, 'sugar_g': 7}\n",
            "load checkpoint from local path: /content/AIDiet_data/checkpoints/CCNet_ReLeM/iter_80000.pth\n",
            "show==False and out_file is not specified, only result image will be returned\n",
            "150g bread\n",
            "37g cheese butter\n",
            "23g lettuce\n",
            "23g tomato\n",
            "11g steak\n",
            "1g pork\n",
            "1g onion\n",
            "1g sauce\n",
            "0g sausage\n",
            "0g pie\n"
          ]
        },
        {
          "name": "stderr",
          "output_type": "stream",
          "text": [
            "127.0.0.1 - - [11/Nov/2022 20:13:53] \"\u001b[37mPOST /calories HTTP/1.1\u001b[0m\" 200 -\n"
          ]
        },
        {
          "name": "stdout",
          "output_type": "stream",
          "text": [
            "{'items': [{'ingredient': 'bread', 'ratio': 0.6, 'volume': 150, 'calories': 392.4}, {'ingredient': 'cheese butter', 'ratio': 0.15, 'volume': 37, 'calories': 145.7}, {'ingredient': 'lettuce', 'ratio': 0.09, 'volume': 23, 'calories': 3.9}, {'ingredient': 'tomato', 'ratio': 0.09, 'volume': 23, 'calories': 4.2}, {'ingredient': 'steak', 'ratio': 0.05, 'volume': 11, 'calories': 30.1}, {'ingredient': 'pork', 'ratio': 0.01, 'volume': 1, 'calories': 2.4}, {'ingredient': 'onion', 'ratio': 0.0, 'volume': 1, 'calories': 0.4}, {'ingredient': 'sauce', 'ratio': 0.0, 'volume': 1, 'calories': 0.5}, {'ingredient': 'sausage', 'ratio': 0.0, 'volume': 0, 'calories': 3.2}, {'ingredient': 'pie', 'ratio': 0.0, 'volume': 0, 'calories': 2.3}], 'serving_size_g': 250, 'calories': 585, 'carbohydrates_total_g': 78, 'cholesterol_mg': 47, 'fat_saturated_g': 8, 'fat_total_g': 20, 'fiber_g': 4, 'potassium_mg': 353, 'protein_g': 25, 'sodium_mg': 1008, 'sugar_g': 9}\n",
            "load checkpoint from local path: /content/AIDiet_data/checkpoints/CCNet_ReLeM/iter_80000.pth\n",
            "show==False and out_file is not specified, only result image will be returned\n",
            "118g bread\n",
            "75g lettuce\n",
            "52g steak\n",
            "2g sauce\n",
            "0g onion\n",
            "0g carrot\n"
          ]
        },
        {
          "name": "stderr",
          "output_type": "stream",
          "text": [
            "127.0.0.1 - - [11/Nov/2022 20:17:02] \"\u001b[37mPOST /calories HTTP/1.1\u001b[0m\" 200 -\n"
          ]
        },
        {
          "name": "stdout",
          "output_type": "stream",
          "text": [
            "{'items': [{'ingredient': 'bread', 'ratio': 0.48, 'volume': 118, 'calories': 308.7}, {'ingredient': 'lettuce', 'ratio': 0.3, 'volume': 75, 'calories': 12.8}, {'ingredient': 'steak', 'ratio': 0.21, 'volume': 52, 'calories': 142.2}, {'ingredient': 'sauce', 'ratio': 0.01, 'volume': 2, 'calories': 1.0}, {'ingredient': 'onion', 'ratio': 0.0, 'volume': 0, 'calories': 0.4}, {'ingredient': 'carrot', 'ratio': 0.0, 'volume': 0, 'calories': 0.3}], 'serving_size_g': 250, 'calories': 465, 'carbohydrates_total_g': 62, 'cholesterol_mg': 49, 'fat_saturated_g': 4, 'fat_total_g': 14, 'fiber_g': 4, 'potassium_mg': 237, 'protein_g': 24, 'sodium_mg': 624, 'sugar_g': 7}\n",
            "load checkpoint from local path: /content/AIDiet_data/checkpoints/CCNet_ReLeM/iter_80000.pth\n",
            "show==False and out_file is not specified, only result image will be returned\n",
            "83g chicken duck\n",
            "75g lettuce\n",
            "64g bread\n",
            "26g tomato\n"
          ]
        },
        {
          "name": "stderr",
          "output_type": "stream",
          "text": [
            "127.0.0.1 - - [11/Nov/2022 20:17:53] \"\u001b[37mPOST /calories HTTP/1.1\u001b[0m\" 200 -\n"
          ]
        },
        {
          "name": "stdout",
          "output_type": "stream",
          "text": [
            "{'items': [{'ingredient': 'chicken duck', 'ratio': 0.34, 'volume': 83, 'calories': 184.8}, {'ingredient': 'lettuce', 'ratio': 0.3, 'volume': 75, 'calories': 12.8}, {'ingredient': 'bread', 'ratio': 0.26, 'volume': 64, 'calories': 167.4}, {'ingredient': 'tomato', 'ratio': 0.11, 'volume': 26, 'calories': 4.7}], 'serving_size_g': 250, 'calories': 369, 'carbohydrates_total_g': 35, 'cholesterol_mg': 76, 'fat_saturated_g': 3, 'fat_total_g': 13, 'fiber_g': 3, 'potassium_mg': 238, 'protein_g': 26, 'sodium_mg': 382, 'sugar_g': 5}\n",
            "load checkpoint from local path: /content/AIDiet_data/checkpoints/CCNet_ReLeM/iter_80000.pth\n",
            "show==False and out_file is not specified, only result image will be returned\n",
            "144g bread\n",
            "43g lettuce\n",
            "41g steak\n",
            "10g chicken duck\n",
            "7g sauce\n",
            "3g cheese butter\n",
            "0g french fries\n"
          ]
        },
        {
          "name": "stderr",
          "output_type": "stream",
          "text": [
            "127.0.0.1 - - [11/Nov/2022 20:18:55] \"\u001b[37mPOST /calories HTTP/1.1\u001b[0m\" 200 -\n"
          ]
        },
        {
          "name": "stdout",
          "output_type": "stream",
          "text": [
            "{'items': [{'ingredient': 'bread', 'ratio': 0.58, 'volume': 144, 'calories': 376.7}, {'ingredient': 'lettuce', 'ratio': 0.17, 'volume': 43, 'calories': 7.3}, {'ingredient': 'steak', 'ratio': 0.16, 'volume': 41, 'calories': 112.1}, {'ingredient': 'chicken duck', 'ratio': 0.04, 'volume': 10, 'calories': 22.3}, {'ingredient': 'sauce', 'ratio': 0.03, 'volume': 7, 'calories': 3.4}, {'ingredient': 'cheese butter', 'ratio': 0.01, 'volume': 3, 'calories': 11.8}, {'ingredient': 'french fries', 'ratio': 0.0, 'volume': 0, 'calories': 3.1}], 'serving_size_g': 250, 'calories': 536, 'carbohydrates_total_g': 74, 'cholesterol_mg': 51, 'fat_saturated_g': 5, 'fat_total_g': 15, 'fiber_g': 4, 'potassium_mg': 266, 'protein_g': 26, 'sodium_mg': 795, 'sugar_g': 9}\n",
            "load checkpoint from local path: /content/AIDiet_data/checkpoints/CCNet_ReLeM/iter_80000.pth\n",
            "show==False and out_file is not specified, only result image will be returned\n",
            "91g bread\n",
            "61g lettuce\n",
            "25g steak\n",
            "24g pork\n",
            "21g sauce\n",
            "18g cheese butter\n",
            "4g chicken duck\n",
            "1g sausage\n",
            "1g egg\n",
            "0g french fries\n",
            "0g shiitake\n",
            "0g onion\n"
          ]
        },
        {
          "name": "stderr",
          "output_type": "stream",
          "text": [
            "127.0.0.1 - - [11/Nov/2022 20:20:09] \"\u001b[37mPOST /calories HTTP/1.1\u001b[0m\" 200 -\n"
          ]
        },
        {
          "name": "stdout",
          "output_type": "stream",
          "text": [
            "{'items': [{'ingredient': 'bread', 'ratio': 0.37, 'volume': 91, 'calories': 238.1}, {'ingredient': 'lettuce', 'ratio': 0.25, 'volume': 61, 'calories': 10.4}, {'ingredient': 'steak', 'ratio': 0.1, 'volume': 25, 'calories': 68.4}, {'ingredient': 'pork', 'ratio': 0.1, 'volume': 24, 'calories': 56.7}, {'ingredient': 'sauce', 'ratio': 0.09, 'volume': 21, 'calories': 10.2}, {'ingredient': 'cheese butter', 'ratio': 0.07, 'volume': 18, 'calories': 70.9}, {'ingredient': 'chicken duck', 'ratio': 0.02, 'volume': 4, 'calories': 8.9}, {'ingredient': 'sausage', 'ratio': 0.01, 'volume': 1, 'calories': 3.2}, {'ingredient': 'egg', 'ratio': 0.01, 'volume': 1, 'calories': 1.5}, {'ingredient': 'french fries', 'ratio': 0.0, 'volume': 0, 'calories': 3.1}, {'ingredient': 'shiitake', 'ratio': 0.0, 'volume': 0, 'calories': 0.3}, {'ingredient': 'onion', 'ratio': 0.0, 'volume': 0, 'calories': 0.4}], 'serving_size_g': 250, 'calories': 472, 'carbohydrates_total_g': 50, 'cholesterol_mg': 68, 'fat_saturated_g': 7, 'fat_total_g': 18, 'fiber_g': 4, 'potassium_mg': 307, 'protein_g': 27, 'sodium_mg': 704, 'sugar_g': 7}\n",
            "load checkpoint from local path: /content/AIDiet_data/checkpoints/CCNet_ReLeM/iter_80000.pth\n",
            "show==False and out_file is not specified, only result image will be returned\n",
            "92g bread\n",
            "52g lettuce\n",
            "47g steak\n",
            "19g cheese butter\n",
            "13g egg\n",
            "10g chicken duck\n",
            "7g pork\n",
            "2g sauce\n",
            "2g sausage\n",
            "0g cabbage\n",
            "0g pumpkin\n"
          ]
        },
        {
          "name": "stderr",
          "output_type": "stream",
          "text": [
            "127.0.0.1 - - [11/Nov/2022 20:21:01] \"\u001b[37mPOST /calories HTTP/1.1\u001b[0m\" 200 -\n"
          ]
        },
        {
          "name": "stdout",
          "output_type": "stream",
          "text": [
            "{'items': [{'ingredient': 'bread', 'ratio': 0.37, 'volume': 92, 'calories': 240.7}, {'ingredient': 'lettuce', 'ratio': 0.21, 'volume': 52, 'calories': 8.9}, {'ingredient': 'steak', 'ratio': 0.19, 'volume': 47, 'calories': 128.5}, {'ingredient': 'cheese butter', 'ratio': 0.08, 'volume': 19, 'calories': 74.8}, {'ingredient': 'egg', 'ratio': 0.05, 'volume': 13, 'calories': 19.1}, {'ingredient': 'chicken duck', 'ratio': 0.04, 'volume': 10, 'calories': 22.3}, {'ingredient': 'pork', 'ratio': 0.03, 'volume': 7, 'calories': 16.5}, {'ingredient': 'sauce', 'ratio': 0.01, 'volume': 2, 'calories': 1.0}, {'ingredient': 'sausage', 'ratio': 0.01, 'volume': 2, 'calories': 6.4}, {'ingredient': 'cabbage', 'ratio': 0.0, 'volume': 0, 'calories': 0.2}, {'ingredient': 'pumpkin', 'ratio': 0.0, 'volume': 0, 'calories': 0.2}], 'serving_size_g': 250, 'calories': 518, 'carbohydrates_total_g': 48, 'cholesterol_mg': 127, 'fat_saturated_g': 8, 'fat_total_g': 22, 'fiber_g': 3, 'potassium_mg': 342, 'protein_g': 31, 'sodium_mg': 661, 'sugar_g': 5}\n",
            "load checkpoint from local path: /content/AIDiet_data/checkpoints/CCNet_ReLeM/iter_80000.pth\n",
            "show==False and out_file is not specified, only result image will be returned\n",
            "94g lettuce\n",
            "88g bread\n",
            "30g lemon\n",
            "27g steak\n",
            "8g sausage\n",
            "0g chicken duck\n",
            "0g pork\n"
          ]
        },
        {
          "name": "stderr",
          "output_type": "stream",
          "text": [
            "127.0.0.1 - - [11/Nov/2022 20:22:41] \"\u001b[37mPOST /calories HTTP/1.1\u001b[0m\" 200 -\n"
          ]
        },
        {
          "name": "stdout",
          "output_type": "stream",
          "text": [
            "{'items': [{'ingredient': 'lettuce', 'ratio': 0.38, 'volume': 94, 'calories': 16.0}, {'ingredient': 'bread', 'ratio': 0.36, 'volume': 88, 'calories': 230.2}, {'ingredient': 'lemon', 'ratio': 0.12, 'volume': 30, 'calories': 8.7}, {'ingredient': 'steak', 'ratio': 0.11, 'volume': 27, 'calories': 73.8}, {'ingredient': 'sausage', 'ratio': 0.03, 'volume': 8, 'calories': 25.8}, {'ingredient': 'chicken duck', 'ratio': 0.0, 'volume': 0, 'calories': 2.2}, {'ingredient': 'pork', 'ratio': 0.0, 'volume': 0, 'calories': 2.4}], 'serving_size_g': 250, 'calories': 359, 'carbohydrates_total_g': 50, 'cholesterol_mg': 31, 'fat_saturated_g': 3, 'fat_total_g': 10, 'fiber_g': 5, 'potassium_mg': 184, 'protein_g': 18, 'sodium_mg': 522, 'sugar_g': 6}\n",
            "load checkpoint from local path: /content/AIDiet_data/checkpoints/CCNet_ReLeM/iter_80000.pth\n",
            "show==False and out_file is not specified, only result image will be returned\n",
            "129g bread\n",
            "56g fried meat\n",
            "25g lettuce\n",
            "21g cheese butter\n",
            "11g ice cream\n",
            "2g chicken duck\n",
            "1g fish\n",
            "0g cilantro mint\n",
            "0g pie\n",
            "0g onion\n",
            "0g juice\n",
            "0g sausage\n"
          ]
        },
        {
          "name": "stderr",
          "output_type": "stream",
          "text": [
            "127.0.0.1 - - [11/Nov/2022 20:23:31] \"\u001b[37mPOST /calories HTTP/1.1\u001b[0m\" 200 -\n"
          ]
        },
        {
          "name": "stdout",
          "output_type": "stream",
          "text": [
            "{'items': [{'ingredient': 'bread', 'ratio': 0.52, 'volume': 129, 'calories': 337.5}, {'ingredient': 'fried meat', 'ratio': 0.23, 'volume': 56, 'calories': 123.9}, {'ingredient': 'lettuce', 'ratio': 0.1, 'volume': 25, 'calories': 4.3}, {'ingredient': 'cheese butter', 'ratio': 0.09, 'volume': 21, 'calories': 82.7}, {'ingredient': 'ice cream', 'ratio': 0.04, 'volume': 11, 'calories': 22.8}, {'ingredient': 'chicken duck', 'ratio': 0.01, 'volume': 2, 'calories': 4.5}, {'ingredient': 'fish', 'ratio': 0.01, 'volume': 1, 'calories': 1.3}, {'ingredient': 'cilantro mint', 'ratio': 0.0, 'volume': 0, 'calories': 0.2}, {'ingredient': 'pie', 'ratio': 0.0, 'volume': 0, 'calories': 2.3}, {'ingredient': 'onion', 'ratio': 0.0, 'volume': 0, 'calories': 0.4}, {'ingredient': 'juice', 'ratio': 0.0, 'volume': 0, 'calories': 0.5}, {'ingredient': 'sausage', 'ratio': 0.0, 'volume': 0, 'calories': 3.2}], 'serving_size_g': 250, 'calories': 583, 'carbohydrates_total_g': 69, 'cholesterol_mg': 76, 'fat_saturated_g': 8, 'fat_total_g': 20, 'fiber_g': 4, 'potassium_mg': 363, 'protein_g': 33, 'sodium_mg': 835, 'sugar_g': 10}\n"
          ]
        }
      ],
      "source": [
        "run_with_ngrok(app)\n",
        "app.run()"
      ]
    },
    {
      "cell_type": "markdown",
      "metadata": {
        "id": "EcJ2Bz1aKy5B"
      },
      "source": [
        "# Image Send 결과 사진 전달"
      ]
    },
    {
      "cell_type": "code",
      "execution_count": null,
      "metadata": {
        "id": "Ze39i_aO-RGQ"
      },
      "outputs": [],
      "source": [
        "from flask import Flask, send_file\n",
        "from flask_ngrok import run_with_ngrok\n",
        "app = Flask(__name__)\n",
        "\n",
        "@app.route('/resultImages')\n",
        "def get_image():\n",
        "    '''\n",
        "    zipf = zipfile.ZipFile('Name.zip','w', zipfile.ZIP_DEFLATED)\n",
        "    for root,dirs, files in os.walk('output/'):\n",
        "        for file in files:\n",
        "            zipf.write('output/'+file)\n",
        "    zipf.close()\n",
        "    return send_file('Name.zip',\n",
        "            mimetype = 'zip',\n",
        "            attachment_filename= 'Name.zip',\n",
        "            as_attachment = True)'''\n",
        "    filename='input.jpg'\n",
        "    return send_file(filename, mimetype='image/jpg', as_attachment = True)"
      ]
    },
    {
      "cell_type": "markdown",
      "metadata": {
        "id": "CD8YvxbJvAPx"
      },
      "source": [
        "1.   사진 전송 구현 (API)\n",
        "2. Calorie 추정 API 최종 구현\n",
        "3.   focal length 부피측정\n",
        "\n"
      ]
    },
    {
      "cell_type": "code",
      "execution_count": null,
      "metadata": {
        "id": "Cv18FAf9CLql"
      },
      "outputs": [],
      "source": []
    }
  ],
  "metadata": {
    "accelerator": "GPU",
    "colab": {
      "machine_shape": "hm",
      "provenance": []
    },
    "gpuClass": "standard",
    "kernelspec": {
      "display_name": "Python 3",
      "name": "python3"
    },
    "language_info": {
      "name": "python"
    }
  },
  "nbformat": 4,
  "nbformat_minor": 0
}